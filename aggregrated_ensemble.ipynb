{
 "cells": [
  {
   "cell_type": "markdown",
   "metadata": {
    "colab_type": "text",
    "id": "Ei4AcgfpV1kd"
   },
   "source": [
    "# COMBINED ENSEMBLE MODEL"
   ]
  },
  {
   "cell_type": "markdown",
   "metadata": {
    "colab_type": "text",
    "id": "sNw6YZi6qK3g"
   },
   "source": [
    "## Importing Necessary Packages"
   ]
  },
  {
   "cell_type": "code",
   "execution_count": 0,
   "metadata": {
    "colab": {
     "base_uri": "https://localhost:8080/",
     "height": 175
    },
    "colab_type": "code",
    "executionInfo": {
     "elapsed": 16714,
     "status": "ok",
     "timestamp": 1588930876897,
     "user": {
      "displayName": "Samridha Man Shrestha",
      "photoUrl": "https://lh3.googleusercontent.com/a-/AOh14GjWM1giZm-4hM3_aud8FxlOUc8VWuoYWktFbs7VDA=s64",
      "userId": "14722659845832153120"
     },
     "user_tz": -240
    },
    "id": "4QTEqXzVV1ke",
    "outputId": "3a392aa6-a01b-45f7-e035-a7d2d4dc816f"
   },
   "outputs": [
    {
     "name": "stderr",
     "output_type": "stream",
     "text": [
      "/usr/local/lib/python3.6/dist-packages/statsmodels/tools/_testing.py:19: FutureWarning: pandas.util.testing is deprecated. Use the functions in the public API at pandas.testing instead.\n",
      "  import pandas.util.testing as tm\n"
     ]
    },
    {
     "name": "stdout",
     "output_type": "stream",
     "text": [
      "[nltk_data] Downloading package stopwords to /root/nltk_data...\n",
      "[nltk_data]   Unzipping corpora/stopwords.zip.\n",
      "[nltk_data] Downloading package averaged_perceptron_tagger to\n",
      "[nltk_data]     /root/nltk_data...\n",
      "[nltk_data]   Unzipping taggers/averaged_perceptron_tagger.zip.\n"
     ]
    },
    {
     "name": "stderr",
     "output_type": "stream",
     "text": [
      "Using TensorFlow backend.\n"
     ]
    }
   ],
   "source": [
    "import matplotlib.pyplot as plt\n",
    "from keras.layers.pooling import GlobalMaxPooling1D\n",
    "from keras.layers.convolutional import Conv1D\n",
    "from keras.layers import Dropout\n",
    "from keras.layers import Flatten\n",
    "from keras.layers import Dense, Activation\n",
    "from keras.models import Sequential\n",
    "from keras import initializers\n",
    "from sklearn.model_selection import StratifiedKFold, GridSearchCV\n",
    "from sklearn.feature_extraction.text import TfidfVectorizer\n",
    "from sklearn.calibration import CalibratedClassifierCV\n",
    "from sklearn.feature_selection import SelectFromModel\n",
    "from sklearn.linear_model import LogisticRegression\n",
    "from sklearn.metrics import classification_report\n",
    "from sklearn.pipeline import Pipeline\n",
    "from sklearn.svm import LinearSVC, SVC\n",
    "from vaderSentiment.vaderSentiment import SentimentIntensityAnalyzer as VS\n",
    "from nltk.stem.porter import *\n",
    "import textstat\n",
    "from sklearn.model_selection import train_test_split\n",
    "from sklearn.metrics import confusion_matrix, f1_score\n",
    "from gensim.models.keyedvectors import KeyedVectors\n",
    "import re\n",
    "import sys\n",
    "import nltk\n",
    "import seaborn\n",
    "import numpy as np\n",
    "import pandas as pd\n",
    "\n",
    "# fix random seed for reproducibility\n",
    "np.random.seed(21)\n",
    "\n",
    "# Note tqdm import try\n",
    "try:\n",
    "    from tqdm.notebook import tqdm\n",
    "except:\n",
    "    import tqdm\n",
    "\n",
    "\n",
    "nltk.download('stopwords')\n",
    "nltk.download('averaged_perceptron_tagger')\n",
    "\n",
    "\n",
    "%matplotlib inline"
   ]
  },
  {
   "cell_type": "markdown",
   "metadata": {
    "colab_type": "text",
    "id": "NeUyr7qaV1ki"
   },
   "source": [
    "## Loading the training data"
   ]
  },
  {
   "cell_type": "code",
   "execution_count": 0,
   "metadata": {
    "colab": {
     "base_uri": "https://localhost:8080/",
     "height": 198
    },
    "colab_type": "code",
    "executionInfo": {
     "elapsed": 1442,
     "status": "ok",
     "timestamp": 1588931249722,
     "user": {
      "displayName": "Samridha Man Shrestha",
      "photoUrl": "https://lh3.googleusercontent.com/a-/AOh14GjWM1giZm-4hM3_aud8FxlOUc8VWuoYWktFbs7VDA=s64",
      "userId": "14722659845832153120"
     },
     "user_tz": -240
    },
    "id": "lhk18szsV1ki",
    "outputId": "a3fb6d06-7318-49ae-e1f4-c9704244a7d6"
   },
   "outputs": [
    {
     "data": {
      "text/html": [
       "<div>\n",
       "<style scoped>\n",
       "    .dataframe tbody tr th:only-of-type {\n",
       "        vertical-align: middle;\n",
       "    }\n",
       "\n",
       "    .dataframe tbody tr th {\n",
       "        vertical-align: top;\n",
       "    }\n",
       "\n",
       "    .dataframe thead th {\n",
       "        text-align: right;\n",
       "    }\n",
       "</style>\n",
       "<table border=\"1\" class=\"dataframe\">\n",
       "  <thead>\n",
       "    <tr style=\"text-align: right;\">\n",
       "      <th></th>\n",
       "      <th>Unnamed: 0</th>\n",
       "      <th>count</th>\n",
       "      <th>hate_speech</th>\n",
       "      <th>offensive_language</th>\n",
       "      <th>neither</th>\n",
       "      <th>class</th>\n",
       "      <th>tweet</th>\n",
       "    </tr>\n",
       "  </thead>\n",
       "  <tbody>\n",
       "    <tr>\n",
       "      <th>0</th>\n",
       "      <td>0</td>\n",
       "      <td>3</td>\n",
       "      <td>0</td>\n",
       "      <td>0</td>\n",
       "      <td>3</td>\n",
       "      <td>2</td>\n",
       "      <td>!!! RT @mayasolovely: As a woman you shouldn't...</td>\n",
       "    </tr>\n",
       "    <tr>\n",
       "      <th>1</th>\n",
       "      <td>1</td>\n",
       "      <td>3</td>\n",
       "      <td>0</td>\n",
       "      <td>3</td>\n",
       "      <td>0</td>\n",
       "      <td>1</td>\n",
       "      <td>!!!!! RT @mleew17: boy dats cold...tyga dwn ba...</td>\n",
       "    </tr>\n",
       "    <tr>\n",
       "      <th>2</th>\n",
       "      <td>2</td>\n",
       "      <td>3</td>\n",
       "      <td>0</td>\n",
       "      <td>3</td>\n",
       "      <td>0</td>\n",
       "      <td>1</td>\n",
       "      <td>!!!!!!! RT @UrKindOfBrand Dawg!!!! RT @80sbaby...</td>\n",
       "    </tr>\n",
       "    <tr>\n",
       "      <th>3</th>\n",
       "      <td>3</td>\n",
       "      <td>3</td>\n",
       "      <td>0</td>\n",
       "      <td>2</td>\n",
       "      <td>1</td>\n",
       "      <td>1</td>\n",
       "      <td>!!!!!!!!! RT @C_G_Anderson: @viva_based she lo...</td>\n",
       "    </tr>\n",
       "    <tr>\n",
       "      <th>4</th>\n",
       "      <td>4</td>\n",
       "      <td>6</td>\n",
       "      <td>0</td>\n",
       "      <td>6</td>\n",
       "      <td>0</td>\n",
       "      <td>1</td>\n",
       "      <td>!!!!!!!!!!!!! RT @ShenikaRoberts: The shit you...</td>\n",
       "    </tr>\n",
       "  </tbody>\n",
       "</table>\n",
       "</div>"
      ],
      "text/plain": [
       "   Unnamed: 0  count  ...  class                                              tweet\n",
       "0           0      3  ...      2  !!! RT @mayasolovely: As a woman you shouldn't...\n",
       "1           1      3  ...      1  !!!!! RT @mleew17: boy dats cold...tyga dwn ba...\n",
       "2           2      3  ...      1  !!!!!!! RT @UrKindOfBrand Dawg!!!! RT @80sbaby...\n",
       "3           3      3  ...      1  !!!!!!!!! RT @C_G_Anderson: @viva_based she lo...\n",
       "4           4      6  ...      1  !!!!!!!!!!!!! RT @ShenikaRoberts: The shit you...\n",
       "\n",
       "[5 rows x 7 columns]"
      ]
     },
     "execution_count": 6,
     "metadata": {
      "tags": []
     },
     "output_type": "execute_result"
    }
   ],
   "source": [
    "X_train_davidson = pd.read_csv(\"hate_speech_labelled_data/labeled_data.csv\")\n",
    "\n",
    "X_train_davidson.head()"
   ]
  },
  {
   "cell_type": "markdown",
   "metadata": {
    "colab_type": "text",
    "id": "qXu00UY5V1ku"
   },
   "source": [
    "### Columns key:\n",
    "\n",
    "-   count = number of CrowdFlower users who coded each tweet (min is 3, sometimes more users coded a tweet when judgments were determined to be unreliable by CF).\n",
    "\n",
    "\n",
    "-   hate_speech = number of CF users who judged the tweet to be hate speech.\n",
    "\n",
    "\n",
    "-   offensive_language = number of CF users who judged the tweet to be offensive.\n",
    "\n",
    "\n",
    "-   neither = number of CF users who judged the tweet to be neither offensive nor non-offensive.\n",
    "\n",
    "\n",
    "-   class = class label for majority of CF users.\n",
    "\n",
    "    -   0 - hate speech\n",
    "    -   1 - offensive  language\n",
    "    -   2 - neither\n",
    "\n",
    "-   tweet = raw tweet text\n"
   ]
  },
  {
   "cell_type": "code",
   "execution_count": 0,
   "metadata": {
    "colab": {
     "base_uri": "https://localhost:8080/",
     "height": 285
    },
    "colab_type": "code",
    "executionInfo": {
     "elapsed": 910,
     "status": "ok",
     "timestamp": 1588931253902,
     "user": {
      "displayName": "Samridha Man Shrestha",
      "photoUrl": "https://lh3.googleusercontent.com/a-/AOh14GjWM1giZm-4hM3_aud8FxlOUc8VWuoYWktFbs7VDA=s64",
      "userId": "14722659845832153120"
     },
     "user_tz": -240
    },
    "id": "hV-qiF1GV1kv",
    "outputId": "e075d8dd-0e29-4584-f6d4-d1d8415fd561"
   },
   "outputs": [
    {
     "data": {
      "text/plain": [
       "<matplotlib.axes._subplots.AxesSubplot at 0x7f9dae837240>"
      ]
     },
     "execution_count": 7,
     "metadata": {
      "tags": []
     },
     "output_type": "execute_result"
    },
    {
     "data": {
      "image/png": "[encoded data removed]",
      "text/plain": [
       "<Figure size 432x288 with 1 Axes>"
      ]
     },
     "metadata": {
      "needs_background": "light",
      "tags": []
     },
     "output_type": "display_data"
    }
   ],
   "source": [
    "X_train_davidson['class'].hist(grid=False)"
   ]
  },
  {
   "cell_type": "markdown",
   "metadata": {
    "colab_type": "text",
    "id": "uc1mK2lTV1ky"
   },
   "source": [
    "This histogram shows the imbalanced nature of the task - most tweets containing \"hate\" words as defined by Hatebase were \n",
    "only considered to be offensive by the CF coders. More tweets were considered to be neither hate speech nor offensive language than were considered hate speech."
   ]
  },
  {
   "cell_type": "markdown",
   "metadata": {
    "colab_type": "text",
    "id": "HpObjjqtdVda"
   },
   "source": [
    "# Generate test, train splits for training and evaluating all models"
   ]
  },
  {
   "cell_type": "code",
   "execution_count": 0,
   "metadata": {
    "colab": {},
    "colab_type": "code",
    "id": "bJlghoVudWMn"
   },
   "outputs": [],
   "source": [
    "X = X_train_davidson['tweet']\n",
    "y = (X_train_davidson['class'].astype(int))\n",
    "\n",
    "X_train, X_test, y_train, y_test = train_test_split(\n",
    "    X, y, test_size=0.1, random_state=42)"
   ]
  },
  {
   "cell_type": "markdown",
   "metadata": {
    "colab_type": "text",
    "id": "RAJcNumi7NOX"
   },
   "source": [
    "# NEURAL NETWORK\n",
    "\n",
    "# Ensemble Neural Network *Implementation*"
   ]
  },
  {
   "cell_type": "markdown",
   "metadata": {
    "colab_type": "text",
    "id": "lyVPlZgE7O58"
   },
   "source": [
    "## Import required and custom modules"
   ]
  },
  {
   "cell_type": "code",
   "execution_count": 0,
   "metadata": {
    "colab": {},
    "colab_type": "code",
    "id": "9EuH56Nv3lM3"
   },
   "outputs": [],
   "source": [
    "import util.nn_ensemble.evaluation as evaluation\n",
    "import util.nn_ensemble.helper as helper\n",
    "import util.nn_ensemble.nlp as nlp"
   ]
  },
  {
   "cell_type": "markdown",
   "metadata": {
    "colab_type": "text",
    "id": "0izbUqlgbYaj"
   },
   "source": [
    "## Model evaluation utility function"
   ]
  },
  {
   "cell_type": "code",
   "execution_count": 0,
   "metadata": {
    "colab": {},
    "colab_type": "code",
    "id": "UUc0GxOlbXiV"
   },
   "outputs": [],
   "source": [
    "# Evaluation function\n",
    "def generate_model_evaluations(y_preds, y_test):\n",
    "    report = classification_report(y_test, y_preds)\n",
    "    print(report)\n",
    "\n",
    "    # Generate confusion matrix\n",
    "    conf_matrix = confusion_matrix(y_test, y_preds)\n",
    "    matrix_proportions = np.zeros((3, 3))\n",
    "\n",
    "    for i in range(0, 3):\n",
    "        matrix_proportions[i, :] = conf_matrix[i, :] / \\\n",
    "            float(conf_matrix[i, :].sum())\n",
    "\n",
    "    names = ['Hate', 'Offensive', 'Neither']\n",
    "    confusion_df = pd.DataFrame(matrix_proportions, index=names, columns=names)\n",
    "    plt.figure(figsize=(5, 5))\n",
    "    seaborn.heatmap(confusion_df, annot=True, annot_kws={\n",
    "                    \"size\": 12}, cmap='gist_gray_r', cbar=False, square=True, fmt='.2f')\n",
    "    plt.ylabel(r'True categories', fontsize=14)\n",
    "    plt.xlabel(r'Predicted categories', fontsize=14)\n",
    "    plt.tick_params(labelsize=12)\n",
    "\n",
    "    fig, axes = plt.subplots(1, 2)\n",
    "    fig.set_figwidth(10)\n",
    "\n",
    "    axes[0].set_title('True Distribution')\n",
    "    axes[1].set_title('Predicted Distribution')\n",
    "\n",
    "    y.hist(bins=100, ax=axes[0], grid=False)\n",
    "    pd.Series(y_preds).hist(bins=100, ax=axes[1], grid=False)\n",
    "\n",
    "    # Uncomment to save the output\n",
    "    # plt.savefig('confusion.pdf')"
   ]
  },
  {
   "cell_type": "markdown",
   "metadata": {
    "colab_type": "text",
    "id": "EAmdjdfWk5o5"
   },
   "source": [
    "## Utility function\n",
    "\n",
    "For preprocessing tweets for acquiring the word to vec embeddings"
   ]
  },
  {
   "cell_type": "code",
   "execution_count": 0,
   "metadata": {
    "colab": {},
    "colab_type": "code",
    "id": "V2AdkRfmk3RY"
   },
   "outputs": [],
   "source": [
    "def get_cnn_embeddings(word_embeddings, tweets_tokenized, max_tokens=50):\n",
    "    '''twitter embedding model only'''\n",
    "    corpus_vecs = []\n",
    "    for tweet in tweets_tokenized:\n",
    "        tweet_vecs = [[0.0 for x in range(400)] for x in range(max_tokens)]\n",
    "        for cnt, token in enumerate(tweet):\n",
    "            try:\n",
    "                tweet_vecs[cnt] = (word_embeddings[token].tolist())\n",
    "            except:\n",
    "                continue\n",
    "        # tweet_vecs.append(embedding_sum/tweet_length)  # NOTE: L1 and High C 10+  better for this scenario\n",
    "        # NOTE: L2 and Low C .01- better for this scenario\n",
    "        corpus_vecs.append(tweet_vecs)\n",
    "    return np.array(corpus_vecs)"
   ]
  },
  {
   "cell_type": "markdown",
   "metadata": {
    "colab_type": "text",
    "id": "tpb4oWeHZnGb"
   },
   "source": [
    "## Defining CNN and Ensemble model classes"
   ]
  },
  {
   "cell_type": "code",
   "execution_count": 0,
   "metadata": {
    "colab": {},
    "colab_type": "code",
    "id": "KrXCufHLdYRt"
   },
   "outputs": [],
   "source": [
    "class CNN_model:\n",
    "\n",
    "    def __init__(self,\n",
    "                 input_size=50,\n",
    "                 output_size=3,\n",
    "                 loss='binary_crossentropy',\n",
    "                 optimizer='adam',\n",
    "                 metrics=['accuracy'],\n",
    "                 random_seed=87):\n",
    "        self.input_size = input_size     # tokens\n",
    "        self.output_size = output_size\n",
    "\n",
    "        np.random.seed(random_seed)\n",
    "\n",
    "        self.model = Sequential()\n",
    "        self.model.add(Conv1D(filters=150, kernel_size=3,\n",
    "                              padding='same', activation='relu',\n",
    "                              input_shape=(input_size, 400)))\n",
    "        self.model.add(GlobalMaxPooling1D())\n",
    "        self.model.add(Dense(250, activation='relu'))\n",
    "        self.model.add(Dense(3, activation='sigmoid'))\n",
    "        self.model.compile(loss=loss, optimizer=optimizer, metrics=metrics)\n",
    "\n",
    "    def fit(self, X_train, y_train,\n",
    "            batch_size=32,\n",
    "            epochs=3,\n",
    "            validation_split=0.2,\n",
    "            **kwargs):\n",
    "        self.model.fit(X_train,\n",
    "                       y_train,\n",
    "                       batch_size=batch_size,\n",
    "                       epochs=epochs,\n",
    "                       validation_split=validation_split,\n",
    "                       **kwargs)\n",
    "\n",
    "    def predict(self, X, verbose=0):\n",
    "        return self.model.predict(X, verbose=verbose)\n",
    "\n",
    "    def evaluate_model(self, y_test, y_pred):\n",
    "        # output evaluation data\n",
    "        print('--------- INDIVIDUAL CNN Model results ---------')\n",
    "        print('--------- F-1/precision/recall report  ---------')\n",
    "        print('---------         MACRO F1             ---------')\n",
    "        print(f1_score(y_test, y_pred, average='macro'))\n",
    "        print('---------         F1 Matrix            ---------')\n",
    "        print(evaluation.evaluate_results(y_test, y_pred))\n",
    "\n",
    "    def get_model_summary(self):\n",
    "        return self.model.summary()\n",
    "\n",
    "    def save_model(self, save_model_path):\n",
    "        self.model.save(save_model_path)  # creates a HDF5 file 'my_model.h5'\n",
    "\n",
    "    def load_model(self, load_model_path):\n",
    "        self.model = load_model(load_model_path)\n",
    "\n",
    "\n",
    "class Ensemble_CNN_model:\n",
    "\n",
    "    def __init__(self,\n",
    "                 load_weight_path=None,\n",
    "                 num_ensemble_models=10,\n",
    "                 input_size=50,\n",
    "                 output_size=3,\n",
    "                 random_seed=87):\n",
    "\n",
    "        self.ensemble_cnns = [None]*num_ensemble_models\n",
    "\n",
    "        for i in range(num_ensemble_models):\n",
    "            np.random.seed(int(random_seed*(i+1)))\n",
    "            self.ensemble_cnns[i] = CNN_model(input_size=input_size,\n",
    "                                              output_size=output_size)\n",
    "            if load_weight_path:\n",
    "                try:\n",
    "                    self.ensemble_cnns[i].load_model(load_weight_path+f'_{i}')\n",
    "                except:\n",
    "                    print(\n",
    "                        f'Model weight not available: {load_weight_path}_{i}')\n",
    "\n",
    "    def predict(self, X):\n",
    "        aggregate_y_pred = []\n",
    "        encoder = None\n",
    "\n",
    "        RANGE = len(self.ensemble_cnns)\n",
    "        for cnn_model in self.ensemble_cnns:\n",
    "            y_soft_max = cnn_model.predict(X)\n",
    "            y_pred = y_soft_max.argmax(axis=1)\n",
    "            aggregate_y_pred.append(y_soft_max)\n",
    "\n",
    "        # ADD ALL RESULTS\n",
    "        sum_of_ys = aggregate_y_pred[0]\n",
    "        for i in [x + 1 for x in range(RANGE - 1)]:\n",
    "            sum_of_ys += aggregate_y_pred[i]\n",
    "\n",
    "        # DIVIDE BY RANGE FOR MEAN\n",
    "        sum_of_ys /= RANGE\n",
    "\n",
    "        # ENCODE PREDS\n",
    "        encoded_preds = sum_of_ys.argmax(axis=1)\n",
    "        print(len(sum_of_ys), len(encoded_preds))\n",
    "        return encoded_preds\n",
    "\n",
    "    def fit_and_eval(self, X_train, y_train, X_test, y_test,\n",
    "                     save_weight_path=None,\n",
    "                     validation_split=0.2,\n",
    "                     batch_size=32,\n",
    "                     epochs=3,\n",
    "                     **kwargs):\n",
    "        aggregate_y_pred = []\n",
    "        encoder = None\n",
    "\n",
    "        RANGE = len(self.ensemble_cnns)\n",
    "        for cnn_model in self.ensemble_cnns:\n",
    "            y_encoder, y_one_hot = helper.one_hot_encode_y(y_train)\n",
    "            cnn_model.fit(X_train, y_one_hot, epochs=epochs,\n",
    "                          batch_size=batch_size)\n",
    "\n",
    "            if save_weight_path:\n",
    "                cnn_model.save_model(save_weight_path)\n",
    "\n",
    "            y_soft_max = cnn_model.predict(X_test)\n",
    "            encoded_preds = y_soft_max.argmax(axis=1)\n",
    "            decoded_preds = y_encoder.inverse_transform(encoded_preds)\n",
    "\n",
    "            cnn_model.evaluate_model(\n",
    "                y_test, decoded_preds)  # print indv results\n",
    "            aggregate_y_pred.append(y_soft_max)\n",
    "\n",
    "        # ADD ALL RESULTS\n",
    "        sum_of_ys = aggregate_y_pred[0]\n",
    "        for i in [x + 1 for x in range(RANGE - 1)]:\n",
    "            sum_of_ys += aggregate_y_pred[i]\n",
    "\n",
    "        # DIVIDE BY RANGE FOR MEAN\n",
    "        sum_of_ys /= RANGE\n",
    "\n",
    "        # ENCODE PREDS\n",
    "        encoded_preds = sum_of_ys.argmax(axis=1)\n",
    "        decoded_preds = y_encoder.inverse_transform(encoded_preds)\n",
    "        print(len(sum_of_ys), len(encoded_preds), len(decoded_preds))\n",
    "        self.evaluate_model(y_test, decoded_preds)\n",
    "\n",
    "    def evaluate_model(self, y_test, y_pred):\n",
    "        print('--------- FINAL ENSEMBLE Model results ---------')\n",
    "        print('---------  F-1/precision/recall report ---------')\n",
    "        print('---------            MACRO F1:         ---------')\n",
    "        print(f1_score(y_test, y_pred, average='macro'))\n",
    "        print('---------            F1 Matrix         ---------')\n",
    "        print(evaluation.evaluate_results(y_test, y_pred))"
   ]
  },
  {
   "cell_type": "markdown",
   "metadata": {
    "colab_type": "text",
    "id": "jjdyTDc6D0Mo"
   },
   "source": [
    "## Load the word vectors "
   ]
  },
  {
   "cell_type": "code",
   "execution_count": 0,
   "metadata": {
    "colab": {
     "base_uri": "https://localhost:8080/",
     "height": 72
    },
    "colab_type": "code",
    "executionInfo": {
     "elapsed": 96057,
     "status": "ok",
     "timestamp": 1588598640126,
     "user": {
      "displayName": "Samridha Man Shrestha",
      "photoUrl": "https://lh3.googleusercontent.com/a-/AOh14GjWM1giZm-4hM3_aud8FxlOUc8VWuoYWktFbs7VDA=s64",
      "userId": "14722659845832153120"
     },
     "user_tz": -240
    },
    "id": "YF3IgIOsAnuV",
    "outputId": "2ae4f269-d1c3-42e5-a7ad-5432107b6742"
   },
   "outputs": [
    {
     "name": "stderr",
     "output_type": "stream",
     "text": [
      "/usr/local/lib/python3.6/dist-packages/smart_open/smart_open_lib.py:253: UserWarning: This function is deprecated, use smart_open.open instead. See the migration notes for details: https://github.com/RaRe-Technologies/smart_open/blob/master/README.rst#migrating-to-the-new-open-function\n",
      "  'See the migration notes for details: %s' % _MIGRATION_NOTES_URL\n"
     ]
    }
   ],
   "source": [
    "cnn_word_vectors = KeyedVectors.load_word2vec_format('pre_trained_models/word2vec_twitter_tokens.bin', \n",
    "                                                     binary=True,\n",
    "                                                     unicode_errors='ignore')"
   ]
  },
  {
   "cell_type": "code",
   "execution_count": 0,
   "metadata": {
    "colab": {},
    "colab_type": "code",
    "id": "o_SjBZfY2w8E"
   },
   "outputs": [],
   "source": [
    "# Generating features from the train and test data\n",
    "X_train_cnn, X_test_cnn, y_train_cnn, y_test_cnn = X_train, X_test, y_train, y_test\n",
    "\n",
    "X_train_cnn = get_cnn_embeddings(cnn_word_vectors,\n",
    "                                 map(lambda y: nlp.replace_tokens(y),\n",
    "                                     nlp.tokenize_tweets(X_train_cnn,\n",
    "                                                         lower_case=LOWER_CASE_TOKENS)),\n",
    "                                 max_tokens=50)\n",
    "\n",
    "X_test_cnn = get_cnn_embeddings(cnn_word_vectors,\n",
    "                                map(lambda y: nlp.replace_tokens(y),\n",
    "                                    nlp.tokenize_tweets(X_test_cnn,\n",
    "                                                        lower_case=LOWER_CASE_TOKENS)),\n",
    "                                max_tokens=50)\n",
    "# Print out the shapes\n",
    "print(X_train_cnn.shape, X_test_cnn.shape, y_train_cnn.shape, y_test_cnn.shape)"
   ]
  },
  {
   "cell_type": "markdown",
   "metadata": {
    "colab_type": "text",
    "id": "SNg_b4hbTztl"
   },
   "source": [
    "## Train the ensemble model"
   ]
  },
  {
   "cell_type": "code",
   "execution_count": 0,
   "metadata": {
    "colab": {},
    "colab_type": "code",
    "id": "pkGD80ihTy5a"
   },
   "outputs": [],
   "source": [
    "cnn_ensemble20 = Ensemble_CNN_model(random_seed=101, num_ensemble_models=20)\n",
    "\n",
    "# Put more weight on the hate speech class\n",
    "class_weight = {0: 3.,\n",
    "                1: 1.,\n",
    "                2: 1.}\n",
    "\n",
    "cnn_ensemble20.fit_and_eval(X_train_cnn, y_train_cnn, X_test_cnn, y_test_cnn,\n",
    "                            epochs=4, batch_size=32, class_weight=class_weight)"
   ]
  },
  {
   "cell_type": "code",
   "execution_count": 0,
   "metadata": {
    "colab": {
     "base_uri": "https://localhost:8080/",
     "height": 795
    },
    "colab_type": "code",
    "executionInfo": {
     "elapsed": 811338,
     "status": "ok",
     "timestamp": 1588577077244,
     "user": {
      "displayName": "Samridha Man Shrestha",
      "photoUrl": "https://lh3.googleusercontent.com/a-/AOh14GjWM1giZm-4hM3_aud8FxlOUc8VWuoYWktFbs7VDA=s64",
      "userId": "14722659845832153120"
     },
     "user_tz": -240
    },
    "id": "gMrX12oDbgPf",
    "outputId": "e55095ce-848c-488e-f6b8-9ef383f35cd5"
   },
   "outputs": [
    {
     "name": "stdout",
     "output_type": "stream",
     "text": [
      "2479 2479\n",
      "              precision    recall  f1-score   support\n",
      "\n",
      "           0       0.66      0.33      0.44       147\n",
      "           1       0.94      0.96      0.95      1937\n",
      "           2       0.85      0.88      0.86       395\n",
      "\n",
      "    accuracy                           0.91      2479\n",
      "   macro avg       0.81      0.73      0.75      2479\n",
      "weighted avg       0.91      0.91      0.91      2479\n",
      "\n"
     ]
    },
    {
     "data": {
      "image/png": "[encoded data removed]",
      "text/plain": [
       "<Figure size 360x360 with 1 Axes>"
      ]
     },
     "metadata": {
      "needs_background": "light",
      "tags": []
     },
     "output_type": "display_data"
    },
    {
     "data": {
      "image/png": "[encoded data removed]",
      "text/plain": [
       "<Figure size 720x288 with 2 Axes>"
      ]
     },
     "metadata": {
      "needs_background": "light",
      "tags": []
     },
     "output_type": "display_data"
    }
   ],
   "source": [
    "# Evaluate model\n",
    "generate_model_evaluations(cnn_ensemble20.predict(X_test_cnn), y_test_cnn)"
   ]
  },
  {
   "cell_type": "markdown",
   "metadata": {
    "colab_type": "text",
    "id": "BD0LvLqbxGCZ"
   },
   "source": [
    "# DAVIDSON ET AL\n",
    "# SUPPORT VECTOR MACHINE and LOGISTIC REGRESSION\n",
    "\n",
    "## Utility Functions"
   ]
  },
  {
   "cell_type": "code",
   "execution_count": 0,
   "metadata": {
    "colab": {},
    "colab_type": "code",
    "id": "oWD3z8RexGko"
   },
   "outputs": [],
   "source": [
    "from util.preprocess_log_regr_and_svm import preprocess\n",
    "from util.preprocess_log_regr_and_svm import tokenize\n",
    "from util.preprocess_log_regr_and_svm import basic_tokenize\n",
    "from util.preprocess_log_regr_and_svm import count_twitter_objs\n",
    "from util.preprocess_log_regr_and_svm import other_features\n",
    "from util.preprocess_log_regr_and_svm import get_feature_array\n",
    "from util.preprocess_log_regr_and_svm import generate_features_train_data\n",
    "from util.preprocess_log_regr_and_svm import generate_features_test_data"
   ]
  },
  {
   "cell_type": "markdown",
   "metadata": {
    "colab_type": "text",
    "id": "pkU2eUlg27ni"
   },
   "source": [
    "## Generate features for training SVC and LogReg"
   ]
  },
  {
   "cell_type": "code",
   "execution_count": 0,
   "metadata": {
    "colab": {
     "base_uri": "https://localhost:8080/",
     "height": 274,
     "referenced_widgets": [
      "760bf1b0a6a24ecc82f62710374eaee9",
      "c6b8028637354de5983285bbbd6cb167",
      "f4cba0ecd93344d19c617ab6d922ccc4",
      "b4dd451b556749c49d324753de227e81",
      "1cc151d5ceeb4cc6b5c1ae27ca471bc0",
      "a393d8c91d084b079a17b065141bbdb1",
      "ce4a7d71d2064a669a2a69a3dcb49681",
      "260a5de8a5f5465aa9b1762ce71e093a",
      "8fecacd7436b4ee48c7940b158606317",
      "a6f97dffbf4e4d3f93f9884a724bf1bd",
      "fd0668ae53794cefb8eb5532cd581afc",
      "d3d0922d956e471b8e4886a9230e08f9",
      "01f549e430344d6981128dff616cf0c2",
      "2e1cb275c1504c5ca50fbfd7298e3bcc",
      "8e33b0ef252247cf87aac6e382d6543d",
      "83fafc2b903c46cab48db2de1f1d8d4f"
     ]
    },
    "colab_type": "code",
    "executionInfo": {
     "elapsed": 38335,
     "status": "ok",
     "timestamp": 1588931377980,
     "user": {
      "displayName": "Samridha Man Shrestha",
      "photoUrl": "https://lh3.googleusercontent.com/a-/AOh14GjWM1giZm-4hM3_aud8FxlOUc8VWuoYWktFbs7VDA=s64",
      "userId": "14722659845832153120"
     },
     "user_tz": -240
    },
    "id": "ouCPxI9K28Jy",
    "outputId": "58c3dd1d-fdee-4121-beb9-dabd54c5b9fa"
   },
   "outputs": [
    {
     "name": "stderr",
     "output_type": "stream",
     "text": [
      "/usr/lib/python3.6/re.py:212: FutureWarning: split() requires a non-empty pattern match.\n",
      "  return _compile(pattern, flags).split(string, maxsplit)\n",
      "/usr/local/lib/python3.6/dist-packages/sklearn/feature_extraction/text.py:385: UserWarning: Your stop_words may be inconsistent with your preprocessing. Tokenizing the stop words generated tokens ['abov', 'ani', 'becaus', 'befor', 'doe', 'dure', 'ha', 'hi', 'onc', 'onli', 'ourselv', 'themselv', 'thi', 'veri', 'wa', 'whi', 'yourselv'] not in stop_words.\n",
      "  'stop_words.' % sorted(inconsistent))\n"
     ]
    },
    {
     "data": {
      "application/vnd.jupyter.widget-view+json": {
       "model_id": "760bf1b0a6a24ecc82f62710374eaee9",
       "version_major": 2,
       "version_minor": 0
      },
      "text/plain": [
       "HBox(children=(IntProgress(value=0, max=22304), HTML(value='')))"
      ]
     },
     "metadata": {
      "tags": []
     },
     "output_type": "display_data"
    },
    {
     "name": "stderr",
     "output_type": "stream",
     "text": [
      "/usr/lib/python3.6/re.py:212: FutureWarning: split() requires a non-empty pattern match.\n",
      "  return _compile(pattern, flags).split(string, maxsplit)\n"
     ]
    },
    {
     "name": "stdout",
     "output_type": "stream",
     "text": [
      "\n"
     ]
    },
    {
     "data": {
      "application/vnd.jupyter.widget-view+json": {
       "model_id": "8fecacd7436b4ee48c7940b158606317",
       "version_major": 2,
       "version_minor": 0
      },
      "text/plain": [
       "HBox(children=(IntProgress(value=0, max=2479), HTML(value='')))"
      ]
     },
     "metadata": {
      "tags": []
     },
     "output_type": "display_data"
    },
    {
     "name": "stderr",
     "output_type": "stream",
     "text": [
      "/usr/lib/python3.6/re.py:212: FutureWarning: split() requires a non-empty pattern match.\n",
      "  return _compile(pattern, flags).split(string, maxsplit)\n"
     ]
    },
    {
     "name": "stdout",
     "output_type": "stream",
     "text": [
      "\n"
     ]
    }
   ],
   "source": [
    "''' Alternative generation, use train data only for vectorizer and pos_vectorizer generation '''\n",
    "X_train_sl, X_test_sl, y_train_sl, y_test_sl = X_train, X_test, y_train, y_test\n",
    "\n",
    "# Generate features from X_train_sl and X_test_sl\n",
    "X_train_sl, vectorizer, pos_vectorizer = generate_features_train_data(X_train_sl)\n",
    "X_test_sl = generate_features_test_data(X_test_sl, vectorizer, pos_vectorizer)"
   ]
  },
  {
   "cell_type": "markdown",
   "metadata": {
    "colab_type": "text",
    "id": "h-IYE4prxsDQ"
   },
   "source": [
    "## Train SVC classifier"
   ]
  },
  {
   "cell_type": "code",
   "execution_count": 0,
   "metadata": {
    "colab": {
     "base_uri": "https://localhost:8080/",
     "height": 259
    },
    "colab_type": "code",
    "executionInfo": {
     "elapsed": 23936,
     "status": "ok",
     "timestamp": 1588931401936,
     "user": {
      "displayName": "Samridha Man Shrestha",
      "photoUrl": "https://lh3.googleusercontent.com/a-/AOh14GjWM1giZm-4hM3_aud8FxlOUc8VWuoYWktFbs7VDA=s64",
      "userId": "14722659845832153120"
     },
     "user_tz": -240
    },
    "id": "Tb5j_nt6yHyc",
    "outputId": "a7131abf-cb1f-4fc5-fc48-441d805d90a3"
   },
   "outputs": [
    {
     "name": "stdout",
     "output_type": "stream",
     "text": [
      "Fitting 5 folds for each of 1 candidates, totalling 5 fits\n",
      "[CV]  ................................................................\n"
     ]
    },
    {
     "name": "stderr",
     "output_type": "stream",
     "text": [
      "[Parallel(n_jobs=1)]: Using backend SequentialBackend with 1 concurrent workers.\n"
     ]
    },
    {
     "name": "stdout",
     "output_type": "stream",
     "text": [
      "[CV] ................................................. , total=   4.0s\n",
      "[CV]  ................................................................\n"
     ]
    },
    {
     "name": "stderr",
     "output_type": "stream",
     "text": [
      "[Parallel(n_jobs=1)]: Done   1 out of   1 | elapsed:    4.0s remaining:    0.0s\n"
     ]
    },
    {
     "name": "stdout",
     "output_type": "stream",
     "text": [
      "[CV] ................................................. , total=   3.3s\n",
      "[CV]  ................................................................\n",
      "[CV] ................................................. , total=   3.6s\n",
      "[CV]  ................................................................\n",
      "[CV] ................................................. , total=   3.5s\n",
      "[CV]  ................................................................\n",
      "[CV] ................................................. , total=   4.3s\n"
     ]
    },
    {
     "name": "stderr",
     "output_type": "stream",
     "text": [
      "[Parallel(n_jobs=1)]: Done   5 out of   5 | elapsed:   18.8s finished\n"
     ]
    }
   ],
   "source": [
    "svc_pipe = Pipeline(\n",
    "    [('select', SelectFromModel(LogisticRegression(class_weight='balanced',\n",
    "                                                   penalty=\"l1\",\n",
    "                                                   C=0.01,\n",
    "                                                   solver='liblinear'))),\n",
    "        ('model', LinearSVC(class_weight='balanced', C=0.01, penalty='l2',\n",
    "                            loss='squared_hinge', multi_class='ovr',\n",
    "                            dual=False, max_iter=10000))])\n",
    "\n",
    "# Optionally add parameters here\n",
    "svc_param_grid = [{}]\n",
    "svc_grid_search = GridSearchCV(svc_pipe,\n",
    "                               svc_param_grid,\n",
    "                               cv=StratifiedKFold(n_splits=5, shuffle=True).split(\n",
    "                                   X_train, y_train),\n",
    "                               verbose=2)\n",
    "\n",
    "# Train model and optimize with grid search\n",
    "svc_model = svc_grid_search.fit(X_train_sl, y_train_sl)"
   ]
  },
  {
   "cell_type": "markdown",
   "metadata": {
    "colab_type": "text",
    "id": "iqBaPLyM0_bj"
   },
   "source": [
    "## Evaluating the results"
   ]
  },
  {
   "cell_type": "code",
   "execution_count": 0,
   "metadata": {
    "colab": {
     "base_uri": "https://localhost:8080/",
     "height": 777
    },
    "colab_type": "code",
    "executionInfo": {
     "elapsed": 25090,
     "status": "ok",
     "timestamp": 1588931403110,
     "user": {
      "displayName": "Samridha Man Shrestha",
      "photoUrl": "https://lh3.googleusercontent.com/a-/AOh14GjWM1giZm-4hM3_aud8FxlOUc8VWuoYWktFbs7VDA=s64",
      "userId": "14722659845832153120"
     },
     "user_tz": -240
    },
    "id": "EeeSM3sb0__T",
    "outputId": "f3a7658f-77db-4a56-8786-c6fb1fcd0da6"
   },
   "outputs": [
    {
     "name": "stdout",
     "output_type": "stream",
     "text": [
      "              precision    recall  f1-score   support\n",
      "\n",
      "           0       0.46      0.60      0.52       164\n",
      "           1       0.96      0.91      0.94      1905\n",
      "           2       0.82      0.95      0.88       410\n",
      "\n",
      "    accuracy                           0.89      2479\n",
      "   macro avg       0.75      0.82      0.78      2479\n",
      "weighted avg       0.91      0.89      0.90      2479\n",
      "\n"
     ]
    },
    {
     "data": {
      "image/png": "[encoded data removed]",
      "text/plain": [
       "<Figure size 360x360 with 1 Axes>"
      ]
     },
     "metadata": {
      "needs_background": "light",
      "tags": []
     },
     "output_type": "display_data"
    },
    {
     "data": {
      "image/png": "[encoded data removed]",
      "text/plain": [
       "<Figure size 720x288 with 2 Axes>"
      ]
     },
     "metadata": {
      "needs_background": "light",
      "tags": []
     },
     "output_type": "display_data"
    }
   ],
   "source": [
    "generate_model_evaluations(svc_model.predict(X_test_sl), y_test_sl)"
   ]
  },
  {
   "cell_type": "markdown",
   "metadata": {
    "colab_type": "text",
    "id": "SoFml8xZyIOE"
   },
   "source": [
    "## Train Logistic Regression classifier"
   ]
  },
  {
   "cell_type": "code",
   "execution_count": 0,
   "metadata": {
    "colab": {
     "base_uri": "https://localhost:8080/",
     "height": 1000
    },
    "colab_type": "code",
    "executionInfo": {
     "elapsed": 54185,
     "status": "ok",
     "timestamp": 1588931432221,
     "user": {
      "displayName": "Samridha Man Shrestha",
      "photoUrl": "https://lh3.googleusercontent.com/a-/AOh14GjWM1giZm-4hM3_aud8FxlOUc8VWuoYWktFbs7VDA=s64",
      "userId": "14722659845832153120"
     },
     "user_tz": -240
    },
    "id": "rR7yzTkDyI6h",
    "outputId": "e9007699-b7da-43f1-b774-fc35c235c2b7"
   },
   "outputs": [
    {
     "name": "stderr",
     "output_type": "stream",
     "text": [
      "/usr/local/lib/python3.6/dist-packages/sklearn/model_selection/_split.py:296: FutureWarning: Setting a random_state has no effect since shuffle is False. This will raise an error in 0.24. You should leave random_state to its default (None), or set shuffle=True.\n",
      "  FutureWarning\n",
      "[Parallel(n_jobs=1)]: Using backend SequentialBackend with 1 concurrent workers.\n"
     ]
    },
    {
     "name": "stdout",
     "output_type": "stream",
     "text": [
      "Fitting 5 folds for each of 1 candidates, totalling 5 fits\n",
      "[CV]  ................................................................\n"
     ]
    },
    {
     "name": "stderr",
     "output_type": "stream",
     "text": [
      "/usr/local/lib/python3.6/dist-packages/sklearn/linear_model/_logistic.py:940: ConvergenceWarning: lbfgs failed to converge (status=1):\n",
      "STOP: TOTAL NO. of ITERATIONS REACHED LIMIT.\n",
      "\n",
      "Increase the number of iterations (max_iter) or scale the data as shown in:\n",
      "    https://scikit-learn.org/stable/modules/preprocessing.html\n",
      "Please also refer to the documentation for alternative solver options:\n",
      "    https://scikit-learn.org/stable/modules/linear_model.html#logistic-regression\n",
      "  extra_warning_msg=_LOGISTIC_SOLVER_CONVERGENCE_MSG)\n",
      "[Parallel(n_jobs=1)]: Done   1 out of   1 | elapsed:    4.8s remaining:    0.0s\n"
     ]
    },
    {
     "name": "stdout",
     "output_type": "stream",
     "text": [
      "[CV] ................................................. , total=   4.8s\n",
      "[CV]  ................................................................\n"
     ]
    },
    {
     "name": "stderr",
     "output_type": "stream",
     "text": [
      "/usr/local/lib/python3.6/dist-packages/sklearn/linear_model/_logistic.py:940: ConvergenceWarning: lbfgs failed to converge (status=1):\n",
      "STOP: TOTAL NO. of ITERATIONS REACHED LIMIT.\n",
      "\n",
      "Increase the number of iterations (max_iter) or scale the data as shown in:\n",
      "    https://scikit-learn.org/stable/modules/preprocessing.html\n",
      "Please also refer to the documentation for alternative solver options:\n",
      "    https://scikit-learn.org/stable/modules/linear_model.html#logistic-regression\n",
      "  extra_warning_msg=_LOGISTIC_SOLVER_CONVERGENCE_MSG)\n"
     ]
    },
    {
     "name": "stdout",
     "output_type": "stream",
     "text": [
      "[CV] ................................................. , total=   4.5s\n",
      "[CV]  ................................................................\n"
     ]
    },
    {
     "name": "stderr",
     "output_type": "stream",
     "text": [
      "/usr/local/lib/python3.6/dist-packages/sklearn/linear_model/_logistic.py:940: ConvergenceWarning: lbfgs failed to converge (status=1):\n",
      "STOP: TOTAL NO. of ITERATIONS REACHED LIMIT.\n",
      "\n",
      "Increase the number of iterations (max_iter) or scale the data as shown in:\n",
      "    https://scikit-learn.org/stable/modules/preprocessing.html\n",
      "Please also refer to the documentation for alternative solver options:\n",
      "    https://scikit-learn.org/stable/modules/linear_model.html#logistic-regression\n",
      "  extra_warning_msg=_LOGISTIC_SOLVER_CONVERGENCE_MSG)\n"
     ]
    },
    {
     "name": "stdout",
     "output_type": "stream",
     "text": [
      "[CV] ................................................. , total=   4.9s\n",
      "[CV]  ................................................................\n"
     ]
    },
    {
     "name": "stderr",
     "output_type": "stream",
     "text": [
      "/usr/local/lib/python3.6/dist-packages/sklearn/linear_model/_logistic.py:940: ConvergenceWarning: lbfgs failed to converge (status=1):\n",
      "STOP: TOTAL NO. of ITERATIONS REACHED LIMIT.\n",
      "\n",
      "Increase the number of iterations (max_iter) or scale the data as shown in:\n",
      "    https://scikit-learn.org/stable/modules/preprocessing.html\n",
      "Please also refer to the documentation for alternative solver options:\n",
      "    https://scikit-learn.org/stable/modules/linear_model.html#logistic-regression\n",
      "  extra_warning_msg=_LOGISTIC_SOLVER_CONVERGENCE_MSG)\n"
     ]
    },
    {
     "name": "stdout",
     "output_type": "stream",
     "text": [
      "[CV] ................................................. , total=   4.8s\n",
      "[CV]  ................................................................\n"
     ]
    },
    {
     "name": "stderr",
     "output_type": "stream",
     "text": [
      "/usr/local/lib/python3.6/dist-packages/sklearn/linear_model/_logistic.py:940: ConvergenceWarning: lbfgs failed to converge (status=1):\n",
      "STOP: TOTAL NO. of ITERATIONS REACHED LIMIT.\n",
      "\n",
      "Increase the number of iterations (max_iter) or scale the data as shown in:\n",
      "    https://scikit-learn.org/stable/modules/preprocessing.html\n",
      "Please also refer to the documentation for alternative solver options:\n",
      "    https://scikit-learn.org/stable/modules/linear_model.html#logistic-regression\n",
      "  extra_warning_msg=_LOGISTIC_SOLVER_CONVERGENCE_MSG)\n",
      "[Parallel(n_jobs=1)]: Done   5 out of   5 | elapsed:   23.6s finished\n"
     ]
    },
    {
     "name": "stdout",
     "output_type": "stream",
     "text": [
      "[CV] ................................................. , total=   4.5s\n"
     ]
    },
    {
     "name": "stderr",
     "output_type": "stream",
     "text": [
      "/usr/local/lib/python3.6/dist-packages/sklearn/linear_model/_logistic.py:940: ConvergenceWarning: lbfgs failed to converge (status=1):\n",
      "STOP: TOTAL NO. of ITERATIONS REACHED LIMIT.\n",
      "\n",
      "Increase the number of iterations (max_iter) or scale the data as shown in:\n",
      "    https://scikit-learn.org/stable/modules/preprocessing.html\n",
      "Please also refer to the documentation for alternative solver options:\n",
      "    https://scikit-learn.org/stable/modules/linear_model.html#logistic-regression\n",
      "  extra_warning_msg=_LOGISTIC_SOLVER_CONVERGENCE_MSG)\n"
     ]
    }
   ],
   "source": [
    "logreg_pipe = Pipeline(\n",
    "    [('select', SelectFromModel(LogisticRegression(class_weight='balanced',\n",
    "                                                   penalty=\"l1\",\n",
    "                                                   C=0.01,\n",
    "                                                   solver='liblinear'))),\n",
    "     ('model', LogisticRegression(class_weight='balanced', penalty='l2'))])\n",
    "\n",
    "logreg_param_grid = [{}]  # Optionally add parameters here\n",
    "logreg_grid_search = GridSearchCV(logreg_pipe,\n",
    "                                  logreg_param_grid,\n",
    "                                  cv=StratifiedKFold(n_splits=5, random_state=42).split(\n",
    "                                      X_train, y_train),\n",
    "                                  verbose=2)\n",
    "\n",
    "# Train model and optimize with grid search\n",
    "logreg_model = logreg_grid_search.fit(X_train_sl, y_train_sl)"
   ]
  },
  {
   "cell_type": "markdown",
   "metadata": {
    "colab_type": "text",
    "id": "W-F_TV5Y3F7F"
   },
   "source": [
    "## Evaluating the Results"
   ]
  },
  {
   "cell_type": "code",
   "execution_count": 0,
   "metadata": {
    "colab": {
     "base_uri": "https://localhost:8080/",
     "height": 777
    },
    "colab_type": "code",
    "executionInfo": {
     "elapsed": 55466,
     "status": "ok",
     "timestamp": 1588931433518,
     "user": {
      "displayName": "Samridha Man Shrestha",
      "photoUrl": "https://lh3.googleusercontent.com/a-/AOh14GjWM1giZm-4hM3_aud8FxlOUc8VWuoYWktFbs7VDA=s64",
      "userId": "14722659845832153120"
     },
     "user_tz": -240
    },
    "id": "V-mLsoR73Gr4",
    "outputId": "7552ec4d-a884-47cf-a20a-416a0a005c3c"
   },
   "outputs": [
    {
     "name": "stdout",
     "output_type": "stream",
     "text": [
      "              precision    recall  f1-score   support\n",
      "\n",
      "           0       0.31      0.71      0.43       164\n",
      "           1       0.97      0.83      0.89      1905\n",
      "           2       0.77      0.92      0.84       410\n",
      "\n",
      "    accuracy                           0.83      2479\n",
      "   macro avg       0.68      0.82      0.72      2479\n",
      "weighted avg       0.90      0.83      0.85      2479\n",
      "\n"
     ]
    },
    {
     "data": {
      "image/png": "[encoded data removed]",
      "text/plain": [
       "<Figure size 360x360 with 1 Axes>"
      ]
     },
     "metadata": {
      "needs_background": "light",
      "tags": []
     },
     "output_type": "display_data"
    },
    {
     "data": {
      "image/png": "[encoded data removed]",
      "text/plain": [
       "<Figure size 720x288 with 2 Axes>"
      ]
     },
     "metadata": {
      "needs_background": "light",
      "tags": []
     },
     "output_type": "display_data"
    }
   ],
   "source": [
    "generate_model_evaluations(logreg_model.predict(X_test_sl), y_test_sl)"
   ]
  },
  {
   "cell_type": "markdown",
   "metadata": {
    "colab_type": "text",
    "id": "CS6scAsg4LQk"
   },
   "source": [
    "--------\n",
    "# COMBINED ENSEMBLE"
   ]
  },
  {
   "cell_type": "markdown",
   "metadata": {
    "colab_type": "text",
    "id": "qTbJ-mYr4SFi"
   },
   "source": [
    "## Combined Ensemble Class"
   ]
  },
  {
   "cell_type": "code",
   "execution_count": 0,
   "metadata": {
    "colab": {},
    "colab_type": "code",
    "id": "-UuB-HjB_eib"
   },
   "outputs": [],
   "source": [
    "class CombinedMiniEnsemble:\n",
    "\n",
    "    def __init__(self, logreg_model,\n",
    "                 svc_model):\n",
    "        self.logreg_model = logreg_model\n",
    "        self.svc_model = svc_model\n",
    "\n",
    "    def predict(self, X, vectorizer, pos_vectorizer):\n",
    "        X_m_1_2 = generate_features_test_data(X, vectorizer, pos_vectorizer)\n",
    "\n",
    "        y_m1 = self.logreg_model.predict(X_m_1_2)\n",
    "        y_m2 = self.svc_model.predict(X_m_1_2)\n",
    "\n",
    "        return np.array([np.bincount(arr).argmax() for arr in np.vstack((y_m1, y_m2)).T])"
   ]
  },
  {
   "cell_type": "code",
   "execution_count": 0,
   "metadata": {
    "colab": {},
    "colab_type": "code",
    "id": "mN0yqRRo_1w1"
   },
   "outputs": [],
   "source": [
    "# Create the combined mini ensemble model\n",
    "mini_comb1 = CombinedMiniEnsemble(logreg_model, svc_model)"
   ]
  },
  {
   "cell_type": "code",
   "execution_count": 0,
   "metadata": {
    "colab": {
     "base_uri": "https://localhost:8080/",
     "height": 896,
     "referenced_widgets": [
      "849a45f521404c82984d18dedccad87e",
      "f94d9dbf0b444adcb05f9a5e2555c639",
      "439f53dd052a48acbfd9998a78a04595",
      "cc618bc4913f4405bd382cb3a4a5b5c7",
      "e2d17a4a74444aa3a1decc5ef03b8b6c",
      "d23413ca9636479281fedca4712200a2",
      "7921149624164934888a3ca1c45895da",
      "38868da937fe47aaa0d42e27aed9044d"
     ]
    },
    "colab_type": "code",
    "executionInfo": {
     "elapsed": 59818,
     "status": "ok",
     "timestamp": 1588660836400,
     "user": {
      "displayName": "Samridha Man Shrestha",
      "photoUrl": "https://lh3.googleusercontent.com/a-/AOh14GjWM1giZm-4hM3_aud8FxlOUc8VWuoYWktFbs7VDA=s64",
      "userId": "14722659845832153120"
     },
     "user_tz": -240
    },
    "id": "q0Oc5EWj_2Ki",
    "outputId": "7fecd24b-71b3-45ab-9840-c0dd928f575b"
   },
   "outputs": [
    {
     "name": "stderr",
     "output_type": "stream",
     "text": [
      "/usr/lib/python3.6/re.py:212: FutureWarning: split() requires a non-empty pattern match.\n",
      "  return _compile(pattern, flags).split(string, maxsplit)\n"
     ]
    },
    {
     "data": {
      "application/vnd.jupyter.widget-view+json": {
       "model_id": "849a45f521404c82984d18dedccad87e",
       "version_major": 2,
       "version_minor": 0
      },
      "text/plain": [
       "HBox(children=(IntProgress(value=0, max=2479), HTML(value='')))"
      ]
     },
     "metadata": {
      "tags": []
     },
     "output_type": "display_data"
    },
    {
     "name": "stderr",
     "output_type": "stream",
     "text": [
      "/usr/lib/python3.6/re.py:212: FutureWarning: split() requires a non-empty pattern match.\n",
      "  return _compile(pattern, flags).split(string, maxsplit)\n"
     ]
    },
    {
     "name": "stdout",
     "output_type": "stream",
     "text": [
      "\n",
      "              precision    recall  f1-score   support\n",
      "\n",
      "           0       0.31      0.74      0.44       164\n",
      "           1       0.97      0.84      0.90      1905\n",
      "           2       0.84      0.90      0.87       410\n",
      "\n",
      "    accuracy                           0.84      2479\n",
      "   macro avg       0.71      0.83      0.74      2479\n",
      "weighted avg       0.91      0.84      0.87      2479\n",
      "\n"
     ]
    },
    {
     "data": {
      "image/png": "[encoded data removed]",
      "text/plain": [
       "<Figure size 360x360 with 1 Axes>"
      ]
     },
     "metadata": {
      "needs_background": "light",
      "tags": []
     },
     "output_type": "display_data"
    },
    {
     "data": {
      "image/png": "[encoded data removed]",
      "text/plain": [
       "<Figure size 720x288 with 2 Axes>"
      ]
     },
     "metadata": {
      "needs_background": "light",
      "tags": []
     },
     "output_type": "display_data"
    }
   ],
   "source": [
    "# Test combined ensemble on Davidson test data\n",
    "generate_model_evaluations(mini_comb1.predict(X_test, vectorizer, pos_vectorizer), y_test)"
   ]
  },
  {
   "cell_type": "code",
   "execution_count": 0,
   "metadata": {
    "colab": {},
    "colab_type": "code",
    "id": "IPObF7we-qY7"
   },
   "outputs": [],
   "source": [
    "class CombinedEnsemble:\n",
    "\n",
    "    def __init__(self, nn_ensemble_model,\n",
    "                 logreg_model,\n",
    "                 svc_model):\n",
    "        self.nn_ensemble_model = nn_ensemble_model\n",
    "        self.logreg_model = logreg_model\n",
    "        self.svc_model = svc_model\n",
    "\n",
    "    def predict(self, X, word_vectors, vectorizer, pos_vectorizer):\n",
    "        X_m1 = get_cnn_embeddings(word_vectors,\n",
    "                                  map(lambda y: nlp.replace_tokens(y),\n",
    "                                      nlp.tokenize_tweets(X,\n",
    "                                                          lower_case=LOWER_CASE_TOKENS)), max_tokens=50)\n",
    "        X_m_2_3 = generate_features_test_data(X, vectorizer, pos_vectorizer)\n",
    "\n",
    "        y_m1 = self.nn_ensemble_model.predict(X_m1)\n",
    "        y_m2 = self.logreg_model.predict(X_m_2_3)\n",
    "        y_m3 = self.svc_model.predict(X_m_2_3)\n",
    "\n",
    "        return np.array([np.bincount(arr).argmax() for arr in np.vstack((y_m1, y_m2, y_m3)).T])"
   ]
  },
  {
   "cell_type": "code",
   "execution_count": 0,
   "metadata": {
    "colab": {},
    "colab_type": "code",
    "id": "ryRxHMUZCibM"
   },
   "outputs": [],
   "source": [
    "# Create the combined ensemble model\n",
    "comb1 = CombinedEnsemble(cnn_ensemble20, logreg_model, svc_model)"
   ]
  },
  {
   "cell_type": "code",
   "execution_count": 0,
   "metadata": {
    "colab": {
     "base_uri": "https://localhost:8080/",
     "height": 914,
     "referenced_widgets": [
      "566cc694cac445388abffff7c04d3dc7",
      "d2533a01921c40b59b9200660f4570e7",
      "3005b92523f84df09c0c6ecc0bae2c6c",
      "1a0dae698aa3451495139557380a5f69",
      "d0341275b6d149dd8925b19f2dda56f0",
      "2f5d8225298d4d49aad947dabe950558",
      "fd6decd7038a45c5bc239e41447bb86d",
      "12683425adf041a283ebe4bed678ce13"
     ]
    },
    "colab_type": "code",
    "executionInfo": {
     "elapsed": 18907,
     "status": "ok",
     "timestamp": 1588578733161,
     "user": {
      "displayName": "Samridha Man Shrestha",
      "photoUrl": "https://lh3.googleusercontent.com/a-/AOh14GjWM1giZm-4hM3_aud8FxlOUc8VWuoYWktFbs7VDA=s64",
      "userId": "14722659845832153120"
     },
     "user_tz": -240
    },
    "id": "KKfYalBEO0vc",
    "outputId": "d3513522-7862-45f5-8e25-8d73604f0781"
   },
   "outputs": [
    {
     "name": "stderr",
     "output_type": "stream",
     "text": [
      "/usr/lib/python3.6/re.py:212: FutureWarning: split() requires a non-empty pattern match.\n",
      "  return _compile(pattern, flags).split(string, maxsplit)\n"
     ]
    },
    {
     "data": {
      "application/vnd.jupyter.widget-view+json": {
       "model_id": "566cc694cac445388abffff7c04d3dc7",
       "version_major": 2,
       "version_minor": 0
      },
      "text/plain": [
       "HBox(children=(IntProgress(value=0, max=2479), HTML(value='')))"
      ]
     },
     "metadata": {
      "tags": []
     },
     "output_type": "display_data"
    },
    {
     "name": "stderr",
     "output_type": "stream",
     "text": [
      "/usr/lib/python3.6/re.py:212: FutureWarning: split() requires a non-empty pattern match.\n",
      "  return _compile(pattern, flags).split(string, maxsplit)\n"
     ]
    },
    {
     "name": "stdout",
     "output_type": "stream",
     "text": [
      "\n",
      "2479 2479\n",
      "              precision    recall  f1-score   support\n",
      "\n",
      "           0       0.50      0.70      0.58       164\n",
      "           1       0.98      0.91      0.94      1905\n",
      "           2       0.84      0.96      0.90       410\n",
      "\n",
      "    accuracy                           0.91      2479\n",
      "   macro avg       0.77      0.86      0.81      2479\n",
      "weighted avg       0.92      0.91      0.91      2479\n",
      "\n"
     ]
    },
    {
     "data": {
      "image/png": "[encoded data removed]",
      "text/plain": [
       "<Figure size 360x360 with 1 Axes>"
      ]
     },
     "metadata": {
      "needs_background": "light",
      "tags": []
     },
     "output_type": "display_data"
    },
    {
     "data": {
      "image/png": "[encoded data removed]",
      "text/plain": [
       "<Figure size 720x288 with 2 Axes>"
      ]
     },
     "metadata": {
      "needs_background": "light",
      "tags": []
     },
     "output_type": "display_data"
    }
   ],
   "source": [
    "# Test combined ensemble on Davidson test data\n",
    "generate_model_evaluations(comb1.predict(X_test, cnn_word_vectors, vectorizer, pos_vectorizer), y_test)"
   ]
  }
 ],
 "metadata": {
  "colab": {
   "collapsed_sections": [],
   "machine_shape": "hm",
   "name": "Combined Ensemble.ipynb",
   "provenance": []
  },
  "hide_input": false,
  "kernelspec": {
   "display_name": "covid_env",
   "language": "python",
   "name": "covid"
  },
  "language_info": {
   "codemirror_mode": {
    "name": "ipython",
    "version": 3
   },
   "file_extension": ".py",
   "mimetype": "text/x-python",
   "name": "python",
   "nbconvert_exporter": "python",
   "pygments_lexer": "ipython3",
   "version": "3.7.6"
  },
  "toc": {
   "base_numbering": 1,
   "nav_menu": {},
   "number_sections": true,
   "sideBar": true,
   "skip_h1_title": false,
   "title_cell": "Table of Contents",
   "title_sidebar": "Contents",
   "toc_cell": false,
   "toc_position": {},
   "toc_section_display": true,
   "toc_window_display": false
  },
  "widgets": {
   "application/vnd.jupyter.widget-state+json": {
    "019424ccbc38451aa84690a4c1d3ead3": {
     "model_module": "@jupyter-widgets/controls",
     "model_name": "ProgressStyleModel",
     "state": {
      "_model_module": "@jupyter-widgets/controls",
      "_model_module_version": "1.5.0",
      "_model_name": "ProgressStyleModel",
      "_view_count": null,
      "_view_module": "@jupyter-widgets/base",
      "_view_module_version": "1.2.0",
      "_view_name": "StyleView",
      "bar_color": null,
      "description_width": "initial"
     }
    },
    "01f549e430344d6981128dff616cf0c2": {
     "model_module": "@jupyter-widgets/controls",
     "model_name": "ProgressStyleModel",
     "state": {
      "_model_module": "@jupyter-widgets/controls",
      "_model_module_version": "1.5.0",
      "_model_name": "ProgressStyleModel",
      "_view_count": null,
      "_view_module": "@jupyter-widgets/base",
      "_view_module_version": "1.2.0",
      "_view_name": "StyleView",
      "bar_color": null,
      "description_width": "initial"
     }
    },
    "0da4a63253f04d9b9f5b67aecb60835c": {
     "model_module": "@jupyter-widgets/base",
     "model_name": "LayoutModel",
     "state": {
      "_model_module": "@jupyter-widgets/base",
      "_model_module_version": "1.2.0",
      "_model_name": "LayoutModel",
      "_view_count": null,
      "_view_module": "@jupyter-widgets/base",
      "_view_module_version": "1.2.0",
      "_view_name": "LayoutView",
      "align_content": null,
      "align_items": null,
      "align_self": null,
      "border": null,
      "bottom": null,
      "display": null,
      "flex": null,
      "flex_flow": null,
      "grid_area": null,
      "grid_auto_columns": null,
      "grid_auto_flow": null,
      "grid_auto_rows": null,
      "grid_column": null,
      "grid_gap": null,
      "grid_row": null,
      "grid_template_areas": null,
      "grid_template_columns": null,
      "grid_template_rows": null,
      "height": null,
      "justify_content": null,
      "justify_items": null,
      "left": null,
      "margin": null,
      "max_height": null,
      "max_width": null,
      "min_height": null,
      "min_width": null,
      "object_fit": null,
      "object_position": null,
      "order": null,
      "overflow": null,
      "overflow_x": null,
      "overflow_y": null,
      "padding": null,
      "right": null,
      "top": null,
      "visibility": null,
      "width": null
     }
    },
    "12683425adf041a283ebe4bed678ce13": {
     "model_module": "@jupyter-widgets/base",
     "model_name": "LayoutModel",
     "state": {
      "_model_module": "@jupyter-widgets/base",
      "_model_module_version": "1.2.0",
      "_model_name": "LayoutModel",
      "_view_count": null,
      "_view_module": "@jupyter-widgets/base",
      "_view_module_version": "1.2.0",
      "_view_name": "LayoutView",
      "align_content": null,
      "align_items": null,
      "align_self": null,
      "border": null,
      "bottom": null,
      "display": null,
      "flex": null,
      "flex_flow": null,
      "grid_area": null,
      "grid_auto_columns": null,
      "grid_auto_flow": null,
      "grid_auto_rows": null,
      "grid_column": null,
      "grid_gap": null,
      "grid_row": null,
      "grid_template_areas": null,
      "grid_template_columns": null,
      "grid_template_rows": null,
      "height": null,
      "justify_content": null,
      "justify_items": null,
      "left": null,
      "margin": null,
      "max_height": null,
      "max_width": null,
      "min_height": null,
      "min_width": null,
      "object_fit": null,
      "object_position": null,
      "order": null,
      "overflow": null,
      "overflow_x": null,
      "overflow_y": null,
      "padding": null,
      "right": null,
      "top": null,
      "visibility": null,
      "width": null
     }
    },
    "1a0dae698aa3451495139557380a5f69": {
     "model_module": "@jupyter-widgets/controls",
     "model_name": "HTMLModel",
     "state": {
      "_dom_classes": [],
      "_model_module": "@jupyter-widgets/controls",
      "_model_module_version": "1.5.0",
      "_model_name": "HTMLModel",
      "_view_count": null,
      "_view_module": "@jupyter-widgets/controls",
      "_view_module_version": "1.5.0",
      "_view_name": "HTMLView",
      "description": "",
      "description_tooltip": null,
      "layout": "IPY_MODEL_12683425adf041a283ebe4bed678ce13",
      "placeholder": "​",
      "style": "IPY_MODEL_fd6decd7038a45c5bc239e41447bb86d",
      "value": " 2479/2479 [00:02&lt;00:00, 996.75it/s]"
     }
    },
    "1ad33dcd61014e61a337041e91cb0e2b": {
     "model_module": "@jupyter-widgets/controls",
     "model_name": "HTMLModel",
     "state": {
      "_dom_classes": [],
      "_model_module": "@jupyter-widgets/controls",
      "_model_module_version": "1.5.0",
      "_model_name": "HTMLModel",
      "_view_count": null,
      "_view_module": "@jupyter-widgets/controls",
      "_view_module_version": "1.5.0",
      "_view_name": "HTMLView",
      "description": "",
      "description_tooltip": null,
      "layout": "IPY_MODEL_e3a1acfdf2ee4f3480a9b1156275cb64",
      "placeholder": "​",
      "style": "IPY_MODEL_433e7aa43de3463caebe0da3a131dc50",
      "value": " 3116/3116 [00:04&lt;00:00, 765.15it/s]"
     }
    },
    "1cc151d5ceeb4cc6b5c1ae27ca471bc0": {
     "model_module": "@jupyter-widgets/controls",
     "model_name": "ProgressStyleModel",
     "state": {
      "_model_module": "@jupyter-widgets/controls",
      "_model_module_version": "1.5.0",
      "_model_name": "ProgressStyleModel",
      "_view_count": null,
      "_view_module": "@jupyter-widgets/base",
      "_view_module_version": "1.2.0",
      "_view_name": "StyleView",
      "bar_color": null,
      "description_width": "initial"
     }
    },
    "1cec51aba40d4b7aa88c2dbe9a909330": {
     "model_module": "@jupyter-widgets/controls",
     "model_name": "DescriptionStyleModel",
     "state": {
      "_model_module": "@jupyter-widgets/controls",
      "_model_module_version": "1.5.0",
      "_model_name": "DescriptionStyleModel",
      "_view_count": null,
      "_view_module": "@jupyter-widgets/base",
      "_view_module_version": "1.2.0",
      "_view_name": "StyleView",
      "description_width": ""
     }
    },
    "1d6676df26be40b4a2e6f51a1d81a3d0": {
     "model_module": "@jupyter-widgets/controls",
     "model_name": "HTMLModel",
     "state": {
      "_dom_classes": [],
      "_model_module": "@jupyter-widgets/controls",
      "_model_module_version": "1.5.0",
      "_model_name": "HTMLModel",
      "_view_count": null,
      "_view_module": "@jupyter-widgets/controls",
      "_view_module_version": "1.5.0",
      "_view_name": "HTMLView",
      "description": "",
      "description_tooltip": null,
      "layout": "IPY_MODEL_cae4dc700e6d4b03b3ff021e3503750b",
      "placeholder": "​",
      "style": "IPY_MODEL_d4cb4b3fd8c64677b3aa00a69b6e7ad1",
      "value": " 1435/1435 [00:01&lt;00:00, 762.39it/s]"
     }
    },
    "1e50ce1759f54b86b8711cc6d3349cb1": {
     "model_module": "@jupyter-widgets/base",
     "model_name": "LayoutModel",
     "state": {
      "_model_module": "@jupyter-widgets/base",
      "_model_module_version": "1.2.0",
      "_model_name": "LayoutModel",
      "_view_count": null,
      "_view_module": "@jupyter-widgets/base",
      "_view_module_version": "1.2.0",
      "_view_name": "LayoutView",
      "align_content": null,
      "align_items": null,
      "align_self": null,
      "border": null,
      "bottom": null,
      "display": null,
      "flex": null,
      "flex_flow": null,
      "grid_area": null,
      "grid_auto_columns": null,
      "grid_auto_flow": null,
      "grid_auto_rows": null,
      "grid_column": null,
      "grid_gap": null,
      "grid_row": null,
      "grid_template_areas": null,
      "grid_template_columns": null,
      "grid_template_rows": null,
      "height": null,
      "justify_content": null,
      "justify_items": null,
      "left": null,
      "margin": null,
      "max_height": null,
      "max_width": null,
      "min_height": null,
      "min_width": null,
      "object_fit": null,
      "object_position": null,
      "order": null,
      "overflow": null,
      "overflow_x": null,
      "overflow_y": null,
      "padding": null,
      "right": null,
      "top": null,
      "visibility": null,
      "width": null
     }
    },
    "2059c3cf428b4442afbd4dc7cc527c06": {
     "model_module": "@jupyter-widgets/controls",
     "model_name": "HBoxModel",
     "state": {
      "_dom_classes": [],
      "_model_module": "@jupyter-widgets/controls",
      "_model_module_version": "1.5.0",
      "_model_name": "HBoxModel",
      "_view_count": null,
      "_view_module": "@jupyter-widgets/controls",
      "_view_module_version": "1.5.0",
      "_view_name": "HBoxView",
      "box_style": "",
      "children": [
       "IPY_MODEL_d3766666b0d343819d24e2c9647b71b9",
       "IPY_MODEL_1ad33dcd61014e61a337041e91cb0e2b"
      ],
      "layout": "IPY_MODEL_2920651e66d8485cb3bf27d870701a97"
     }
    },
    "260a5de8a5f5465aa9b1762ce71e093a": {
     "model_module": "@jupyter-widgets/base",
     "model_name": "LayoutModel",
     "state": {
      "_model_module": "@jupyter-widgets/base",
      "_model_module_version": "1.2.0",
      "_model_name": "LayoutModel",
      "_view_count": null,
      "_view_module": "@jupyter-widgets/base",
      "_view_module_version": "1.2.0",
      "_view_name": "LayoutView",
      "align_content": null,
      "align_items": null,
      "align_self": null,
      "border": null,
      "bottom": null,
      "display": null,
      "flex": null,
      "flex_flow": null,
      "grid_area": null,
      "grid_auto_columns": null,
      "grid_auto_flow": null,
      "grid_auto_rows": null,
      "grid_column": null,
      "grid_gap": null,
      "grid_row": null,
      "grid_template_areas": null,
      "grid_template_columns": null,
      "grid_template_rows": null,
      "height": null,
      "justify_content": null,
      "justify_items": null,
      "left": null,
      "margin": null,
      "max_height": null,
      "max_width": null,
      "min_height": null,
      "min_width": null,
      "object_fit": null,
      "object_position": null,
      "order": null,
      "overflow": null,
      "overflow_x": null,
      "overflow_y": null,
      "padding": null,
      "right": null,
      "top": null,
      "visibility": null,
      "width": null
     }
    },
    "2920651e66d8485cb3bf27d870701a97": {
     "model_module": "@jupyter-widgets/base",
     "model_name": "LayoutModel",
     "state": {
      "_model_module": "@jupyter-widgets/base",
      "_model_module_version": "1.2.0",
      "_model_name": "LayoutModel",
      "_view_count": null,
      "_view_module": "@jupyter-widgets/base",
      "_view_module_version": "1.2.0",
      "_view_name": "LayoutView",
      "align_content": null,
      "align_items": null,
      "align_self": null,
      "border": null,
      "bottom": null,
      "display": null,
      "flex": null,
      "flex_flow": null,
      "grid_area": null,
      "grid_auto_columns": null,
      "grid_auto_flow": null,
      "grid_auto_rows": null,
      "grid_column": null,
      "grid_gap": null,
      "grid_row": null,
      "grid_template_areas": null,
      "grid_template_columns": null,
      "grid_template_rows": null,
      "height": null,
      "justify_content": null,
      "justify_items": null,
      "left": null,
      "margin": null,
      "max_height": null,
      "max_width": null,
      "min_height": null,
      "min_width": null,
      "object_fit": null,
      "object_position": null,
      "order": null,
      "overflow": null,
      "overflow_x": null,
      "overflow_y": null,
      "padding": null,
      "right": null,
      "top": null,
      "visibility": null,
      "width": null
     }
    },
    "2e1cb275c1504c5ca50fbfd7298e3bcc": {
     "model_module": "@jupyter-widgets/base",
     "model_name": "LayoutModel",
     "state": {
      "_model_module": "@jupyter-widgets/base",
      "_model_module_version": "1.2.0",
      "_model_name": "LayoutModel",
      "_view_count": null,
      "_view_module": "@jupyter-widgets/base",
      "_view_module_version": "1.2.0",
      "_view_name": "LayoutView",
      "align_content": null,
      "align_items": null,
      "align_self": null,
      "border": null,
      "bottom": null,
      "display": null,
      "flex": null,
      "flex_flow": null,
      "grid_area": null,
      "grid_auto_columns": null,
      "grid_auto_flow": null,
      "grid_auto_rows": null,
      "grid_column": null,
      "grid_gap": null,
      "grid_row": null,
      "grid_template_areas": null,
      "grid_template_columns": null,
      "grid_template_rows": null,
      "height": null,
      "justify_content": null,
      "justify_items": null,
      "left": null,
      "margin": null,
      "max_height": null,
      "max_width": null,
      "min_height": null,
      "min_width": null,
      "object_fit": null,
      "object_position": null,
      "order": null,
      "overflow": null,
      "overflow_x": null,
      "overflow_y": null,
      "padding": null,
      "right": null,
      "top": null,
      "visibility": null,
      "width": null
     }
    },
    "2f5d8225298d4d49aad947dabe950558": {
     "model_module": "@jupyter-widgets/base",
     "model_name": "LayoutModel",
     "state": {
      "_model_module": "@jupyter-widgets/base",
      "_model_module_version": "1.2.0",
      "_model_name": "LayoutModel",
      "_view_count": null,
      "_view_module": "@jupyter-widgets/base",
      "_view_module_version": "1.2.0",
      "_view_name": "LayoutView",
      "align_content": null,
      "align_items": null,
      "align_self": null,
      "border": null,
      "bottom": null,
      "display": null,
      "flex": null,
      "flex_flow": null,
      "grid_area": null,
      "grid_auto_columns": null,
      "grid_auto_flow": null,
      "grid_auto_rows": null,
      "grid_column": null,
      "grid_gap": null,
      "grid_row": null,
      "grid_template_areas": null,
      "grid_template_columns": null,
      "grid_template_rows": null,
      "height": null,
      "justify_content": null,
      "justify_items": null,
      "left": null,
      "margin": null,
      "max_height": null,
      "max_width": null,
      "min_height": null,
      "min_width": null,
      "object_fit": null,
      "object_position": null,
      "order": null,
      "overflow": null,
      "overflow_x": null,
      "overflow_y": null,
      "padding": null,
      "right": null,
      "top": null,
      "visibility": null,
      "width": null
     }
    },
    "3005b92523f84df09c0c6ecc0bae2c6c": {
     "model_module": "@jupyter-widgets/controls",
     "model_name": "IntProgressModel",
     "state": {
      "_dom_classes": [],
      "_model_module": "@jupyter-widgets/controls",
      "_model_module_version": "1.5.0",
      "_model_name": "IntProgressModel",
      "_view_count": null,
      "_view_module": "@jupyter-widgets/controls",
      "_view_module_version": "1.5.0",
      "_view_name": "ProgressView",
      "bar_style": "success",
      "description": "100%",
      "description_tooltip": null,
      "layout": "IPY_MODEL_2f5d8225298d4d49aad947dabe950558",
      "max": 2479,
      "min": 0,
      "orientation": "horizontal",
      "style": "IPY_MODEL_d0341275b6d149dd8925b19f2dda56f0",
      "value": 2479
     }
    },
    "38868da937fe47aaa0d42e27aed9044d": {
     "model_module": "@jupyter-widgets/base",
     "model_name": "LayoutModel",
     "state": {
      "_model_module": "@jupyter-widgets/base",
      "_model_module_version": "1.2.0",
      "_model_name": "LayoutModel",
      "_view_count": null,
      "_view_module": "@jupyter-widgets/base",
      "_view_module_version": "1.2.0",
      "_view_name": "LayoutView",
      "align_content": null,
      "align_items": null,
      "align_self": null,
      "border": null,
      "bottom": null,
      "display": null,
      "flex": null,
      "flex_flow": null,
      "grid_area": null,
      "grid_auto_columns": null,
      "grid_auto_flow": null,
      "grid_auto_rows": null,
      "grid_column": null,
      "grid_gap": null,
      "grid_row": null,
      "grid_template_areas": null,
      "grid_template_columns": null,
      "grid_template_rows": null,
      "height": null,
      "justify_content": null,
      "justify_items": null,
      "left": null,
      "margin": null,
      "max_height": null,
      "max_width": null,
      "min_height": null,
      "min_width": null,
      "object_fit": null,
      "object_position": null,
      "order": null,
      "overflow": null,
      "overflow_x": null,
      "overflow_y": null,
      "padding": null,
      "right": null,
      "top": null,
      "visibility": null,
      "width": null
     }
    },
    "3ff7c1a38c2b406799e9457dcc3c9095": {
     "model_module": "@jupyter-widgets/base",
     "model_name": "LayoutModel",
     "state": {
      "_model_module": "@jupyter-widgets/base",
      "_model_module_version": "1.2.0",
      "_model_name": "LayoutModel",
      "_view_count": null,
      "_view_module": "@jupyter-widgets/base",
      "_view_module_version": "1.2.0",
      "_view_name": "LayoutView",
      "align_content": null,
      "align_items": null,
      "align_self": null,
      "border": null,
      "bottom": null,
      "display": null,
      "flex": null,
      "flex_flow": null,
      "grid_area": null,
      "grid_auto_columns": null,
      "grid_auto_flow": null,
      "grid_auto_rows": null,
      "grid_column": null,
      "grid_gap": null,
      "grid_row": null,
      "grid_template_areas": null,
      "grid_template_columns": null,
      "grid_template_rows": null,
      "height": null,
      "justify_content": null,
      "justify_items": null,
      "left": null,
      "margin": null,
      "max_height": null,
      "max_width": null,
      "min_height": null,
      "min_width": null,
      "object_fit": null,
      "object_position": null,
      "order": null,
      "overflow": null,
      "overflow_x": null,
      "overflow_y": null,
      "padding": null,
      "right": null,
      "top": null,
      "visibility": null,
      "width": null
     }
    },
    "433e7aa43de3463caebe0da3a131dc50": {
     "model_module": "@jupyter-widgets/controls",
     "model_name": "DescriptionStyleModel",
     "state": {
      "_model_module": "@jupyter-widgets/controls",
      "_model_module_version": "1.5.0",
      "_model_name": "DescriptionStyleModel",
      "_view_count": null,
      "_view_module": "@jupyter-widgets/base",
      "_view_module_version": "1.2.0",
      "_view_name": "StyleView",
      "description_width": ""
     }
    },
    "439f53dd052a48acbfd9998a78a04595": {
     "model_module": "@jupyter-widgets/controls",
     "model_name": "IntProgressModel",
     "state": {
      "_dom_classes": [],
      "_model_module": "@jupyter-widgets/controls",
      "_model_module_version": "1.5.0",
      "_model_name": "IntProgressModel",
      "_view_count": null,
      "_view_module": "@jupyter-widgets/controls",
      "_view_module_version": "1.5.0",
      "_view_name": "ProgressView",
      "bar_style": "success",
      "description": "100%",
      "description_tooltip": null,
      "layout": "IPY_MODEL_d23413ca9636479281fedca4712200a2",
      "max": 2479,
      "min": 0,
      "orientation": "horizontal",
      "style": "IPY_MODEL_e2d17a4a74444aa3a1decc5ef03b8b6c",
      "value": 2479
     }
    },
    "43ba710a478f4c67b8ffee659ddd97d6": {
     "model_module": "@jupyter-widgets/controls",
     "model_name": "IntProgressModel",
     "state": {
      "_dom_classes": [],
      "_model_module": "@jupyter-widgets/controls",
      "_model_module_version": "1.5.0",
      "_model_name": "IntProgressModel",
      "_view_count": null,
      "_view_module": "@jupyter-widgets/controls",
      "_view_module_version": "1.5.0",
      "_view_name": "ProgressView",
      "bar_style": "success",
      "description": "100%",
      "description_tooltip": null,
      "layout": "IPY_MODEL_926bbb1b618845eeb610667d6f2eca69",
      "max": 1435,
      "min": 0,
      "orientation": "horizontal",
      "style": "IPY_MODEL_6d1ab75daf2e407fb6ed94d43ebbfa4d",
      "value": 1435
     }
    },
    "50e61a6c07fa48f2ac31f30daab6abb3": {
     "model_module": "@jupyter-widgets/base",
     "model_name": "LayoutModel",
     "state": {
      "_model_module": "@jupyter-widgets/base",
      "_model_module_version": "1.2.0",
      "_model_name": "LayoutModel",
      "_view_count": null,
      "_view_module": "@jupyter-widgets/base",
      "_view_module_version": "1.2.0",
      "_view_name": "LayoutView",
      "align_content": null,
      "align_items": null,
      "align_self": null,
      "border": null,
      "bottom": null,
      "display": null,
      "flex": null,
      "flex_flow": null,
      "grid_area": null,
      "grid_auto_columns": null,
      "grid_auto_flow": null,
      "grid_auto_rows": null,
      "grid_column": null,
      "grid_gap": null,
      "grid_row": null,
      "grid_template_areas": null,
      "grid_template_columns": null,
      "grid_template_rows": null,
      "height": null,
      "justify_content": null,
      "justify_items": null,
      "left": null,
      "margin": null,
      "max_height": null,
      "max_width": null,
      "min_height": null,
      "min_width": null,
      "object_fit": null,
      "object_position": null,
      "order": null,
      "overflow": null,
      "overflow_x": null,
      "overflow_y": null,
      "padding": null,
      "right": null,
      "top": null,
      "visibility": null,
      "width": null
     }
    },
    "566cc694cac445388abffff7c04d3dc7": {
     "model_module": "@jupyter-widgets/controls",
     "model_name": "HBoxModel",
     "state": {
      "_dom_classes": [],
      "_model_module": "@jupyter-widgets/controls",
      "_model_module_version": "1.5.0",
      "_model_name": "HBoxModel",
      "_view_count": null,
      "_view_module": "@jupyter-widgets/controls",
      "_view_module_version": "1.5.0",
      "_view_name": "HBoxView",
      "box_style": "",
      "children": [
       "IPY_MODEL_3005b92523f84df09c0c6ecc0bae2c6c",
       "IPY_MODEL_1a0dae698aa3451495139557380a5f69"
      ],
      "layout": "IPY_MODEL_d2533a01921c40b59b9200660f4570e7"
     }
    },
    "65963699d0fa4ae9b9d2ebfd754e0541": {
     "model_module": "@jupyter-widgets/controls",
     "model_name": "HTMLModel",
     "state": {
      "_dom_classes": [],
      "_model_module": "@jupyter-widgets/controls",
      "_model_module_version": "1.5.0",
      "_model_name": "HTMLModel",
      "_view_count": null,
      "_view_module": "@jupyter-widgets/controls",
      "_view_module_version": "1.5.0",
      "_view_name": "HTMLView",
      "description": "",
      "description_tooltip": null,
      "layout": "IPY_MODEL_1e50ce1759f54b86b8711cc6d3349cb1",
      "placeholder": "​",
      "style": "IPY_MODEL_1cec51aba40d4b7aa88c2dbe9a909330",
      "value": " 3117/3117 [00:04&lt;00:00, 704.22it/s]"
     }
    },
    "6d1ab75daf2e407fb6ed94d43ebbfa4d": {
     "model_module": "@jupyter-widgets/controls",
     "model_name": "ProgressStyleModel",
     "state": {
      "_model_module": "@jupyter-widgets/controls",
      "_model_module_version": "1.5.0",
      "_model_name": "ProgressStyleModel",
      "_view_count": null,
      "_view_module": "@jupyter-widgets/base",
      "_view_module_version": "1.2.0",
      "_view_name": "StyleView",
      "bar_color": null,
      "description_width": "initial"
     }
    },
    "760bf1b0a6a24ecc82f62710374eaee9": {
     "model_module": "@jupyter-widgets/controls",
     "model_name": "HBoxModel",
     "state": {
      "_dom_classes": [],
      "_model_module": "@jupyter-widgets/controls",
      "_model_module_version": "1.5.0",
      "_model_name": "HBoxModel",
      "_view_count": null,
      "_view_module": "@jupyter-widgets/controls",
      "_view_module_version": "1.5.0",
      "_view_name": "HBoxView",
      "box_style": "",
      "children": [
       "IPY_MODEL_f4cba0ecd93344d19c617ab6d922ccc4",
       "IPY_MODEL_b4dd451b556749c49d324753de227e81"
      ],
      "layout": "IPY_MODEL_c6b8028637354de5983285bbbd6cb167"
     }
    },
    "7921149624164934888a3ca1c45895da": {
     "model_module": "@jupyter-widgets/controls",
     "model_name": "DescriptionStyleModel",
     "state": {
      "_model_module": "@jupyter-widgets/controls",
      "_model_module_version": "1.5.0",
      "_model_name": "DescriptionStyleModel",
      "_view_count": null,
      "_view_module": "@jupyter-widgets/base",
      "_view_module_version": "1.2.0",
      "_view_name": "StyleView",
      "description_width": ""
     }
    },
    "83fafc2b903c46cab48db2de1f1d8d4f": {
     "model_module": "@jupyter-widgets/base",
     "model_name": "LayoutModel",
     "state": {
      "_model_module": "@jupyter-widgets/base",
      "_model_module_version": "1.2.0",
      "_model_name": "LayoutModel",
      "_view_count": null,
      "_view_module": "@jupyter-widgets/base",
      "_view_module_version": "1.2.0",
      "_view_name": "LayoutView",
      "align_content": null,
      "align_items": null,
      "align_self": null,
      "border": null,
      "bottom": null,
      "display": null,
      "flex": null,
      "flex_flow": null,
      "grid_area": null,
      "grid_auto_columns": null,
      "grid_auto_flow": null,
      "grid_auto_rows": null,
      "grid_column": null,
      "grid_gap": null,
      "grid_row": null,
      "grid_template_areas": null,
      "grid_template_columns": null,
      "grid_template_rows": null,
      "height": null,
      "justify_content": null,
      "justify_items": null,
      "left": null,
      "margin": null,
      "max_height": null,
      "max_width": null,
      "min_height": null,
      "min_width": null,
      "object_fit": null,
      "object_position": null,
      "order": null,
      "overflow": null,
      "overflow_x": null,
      "overflow_y": null,
      "padding": null,
      "right": null,
      "top": null,
      "visibility": null,
      "width": null
     }
    },
    "849a45f521404c82984d18dedccad87e": {
     "model_module": "@jupyter-widgets/controls",
     "model_name": "HBoxModel",
     "state": {
      "_dom_classes": [],
      "_model_module": "@jupyter-widgets/controls",
      "_model_module_version": "1.5.0",
      "_model_name": "HBoxModel",
      "_view_count": null,
      "_view_module": "@jupyter-widgets/controls",
      "_view_module_version": "1.5.0",
      "_view_name": "HBoxView",
      "box_style": "",
      "children": [
       "IPY_MODEL_439f53dd052a48acbfd9998a78a04595",
       "IPY_MODEL_cc618bc4913f4405bd382cb3a4a5b5c7"
      ],
      "layout": "IPY_MODEL_f94d9dbf0b444adcb05f9a5e2555c639"
     }
    },
    "86e103c5cb2a400ab139654c53bc0b53": {
     "model_module": "@jupyter-widgets/controls",
     "model_name": "HBoxModel",
     "state": {
      "_dom_classes": [],
      "_model_module": "@jupyter-widgets/controls",
      "_model_module_version": "1.5.0",
      "_model_name": "HBoxModel",
      "_view_count": null,
      "_view_module": "@jupyter-widgets/controls",
      "_view_module_version": "1.5.0",
      "_view_name": "HBoxView",
      "box_style": "",
      "children": [
       "IPY_MODEL_43ba710a478f4c67b8ffee659ddd97d6",
       "IPY_MODEL_1d6676df26be40b4a2e6f51a1d81a3d0"
      ],
      "layout": "IPY_MODEL_50e61a6c07fa48f2ac31f30daab6abb3"
     }
    },
    "8e33b0ef252247cf87aac6e382d6543d": {
     "model_module": "@jupyter-widgets/controls",
     "model_name": "DescriptionStyleModel",
     "state": {
      "_model_module": "@jupyter-widgets/controls",
      "_model_module_version": "1.5.0",
      "_model_name": "DescriptionStyleModel",
      "_view_count": null,
      "_view_module": "@jupyter-widgets/base",
      "_view_module_version": "1.2.0",
      "_view_name": "StyleView",
      "description_width": ""
     }
    },
    "8fecacd7436b4ee48c7940b158606317": {
     "model_module": "@jupyter-widgets/controls",
     "model_name": "HBoxModel",
     "state": {
      "_dom_classes": [],
      "_model_module": "@jupyter-widgets/controls",
      "_model_module_version": "1.5.0",
      "_model_name": "HBoxModel",
      "_view_count": null,
      "_view_module": "@jupyter-widgets/controls",
      "_view_module_version": "1.5.0",
      "_view_name": "HBoxView",
      "box_style": "",
      "children": [
       "IPY_MODEL_fd0668ae53794cefb8eb5532cd581afc",
       "IPY_MODEL_d3d0922d956e471b8e4886a9230e08f9"
      ],
      "layout": "IPY_MODEL_a6f97dffbf4e4d3f93f9884a724bf1bd"
     }
    },
    "926bbb1b618845eeb610667d6f2eca69": {
     "model_module": "@jupyter-widgets/base",
     "model_name": "LayoutModel",
     "state": {
      "_model_module": "@jupyter-widgets/base",
      "_model_module_version": "1.2.0",
      "_model_name": "LayoutModel",
      "_view_count": null,
      "_view_module": "@jupyter-widgets/base",
      "_view_module_version": "1.2.0",
      "_view_name": "LayoutView",
      "align_content": null,
      "align_items": null,
      "align_self": null,
      "border": null,
      "bottom": null,
      "display": null,
      "flex": null,
      "flex_flow": null,
      "grid_area": null,
      "grid_auto_columns": null,
      "grid_auto_flow": null,
      "grid_auto_rows": null,
      "grid_column": null,
      "grid_gap": null,
      "grid_row": null,
      "grid_template_areas": null,
      "grid_template_columns": null,
      "grid_template_rows": null,
      "height": null,
      "justify_content": null,
      "justify_items": null,
      "left": null,
      "margin": null,
      "max_height": null,
      "max_width": null,
      "min_height": null,
      "min_width": null,
      "object_fit": null,
      "object_position": null,
      "order": null,
      "overflow": null,
      "overflow_x": null,
      "overflow_y": null,
      "padding": null,
      "right": null,
      "top": null,
      "visibility": null,
      "width": null
     }
    },
    "a393d8c91d084b079a17b065141bbdb1": {
     "model_module": "@jupyter-widgets/base",
     "model_name": "LayoutModel",
     "state": {
      "_model_module": "@jupyter-widgets/base",
      "_model_module_version": "1.2.0",
      "_model_name": "LayoutModel",
      "_view_count": null,
      "_view_module": "@jupyter-widgets/base",
      "_view_module_version": "1.2.0",
      "_view_name": "LayoutView",
      "align_content": null,
      "align_items": null,
      "align_self": null,
      "border": null,
      "bottom": null,
      "display": null,
      "flex": null,
      "flex_flow": null,
      "grid_area": null,
      "grid_auto_columns": null,
      "grid_auto_flow": null,
      "grid_auto_rows": null,
      "grid_column": null,
      "grid_gap": null,
      "grid_row": null,
      "grid_template_areas": null,
      "grid_template_columns": null,
      "grid_template_rows": null,
      "height": null,
      "justify_content": null,
      "justify_items": null,
      "left": null,
      "margin": null,
      "max_height": null,
      "max_width": null,
      "min_height": null,
      "min_width": null,
      "object_fit": null,
      "object_position": null,
      "order": null,
      "overflow": null,
      "overflow_x": null,
      "overflow_y": null,
      "padding": null,
      "right": null,
      "top": null,
      "visibility": null,
      "width": null
     }
    },
    "a6f97dffbf4e4d3f93f9884a724bf1bd": {
     "model_module": "@jupyter-widgets/base",
     "model_name": "LayoutModel",
     "state": {
      "_model_module": "@jupyter-widgets/base",
      "_model_module_version": "1.2.0",
      "_model_name": "LayoutModel",
      "_view_count": null,
      "_view_module": "@jupyter-widgets/base",
      "_view_module_version": "1.2.0",
      "_view_name": "LayoutView",
      "align_content": null,
      "align_items": null,
      "align_self": null,
      "border": null,
      "bottom": null,
      "display": null,
      "flex": null,
      "flex_flow": null,
      "grid_area": null,
      "grid_auto_columns": null,
      "grid_auto_flow": null,
      "grid_auto_rows": null,
      "grid_column": null,
      "grid_gap": null,
      "grid_row": null,
      "grid_template_areas": null,
      "grid_template_columns": null,
      "grid_template_rows": null,
      "height": null,
      "justify_content": null,
      "justify_items": null,
      "left": null,
      "margin": null,
      "max_height": null,
      "max_width": null,
      "min_height": null,
      "min_width": null,
      "object_fit": null,
      "object_position": null,
      "order": null,
      "overflow": null,
      "overflow_x": null,
      "overflow_y": null,
      "padding": null,
      "right": null,
      "top": null,
      "visibility": null,
      "width": null
     }
    },
    "b4dd451b556749c49d324753de227e81": {
     "model_module": "@jupyter-widgets/controls",
     "model_name": "HTMLModel",
     "state": {
      "_dom_classes": [],
      "_model_module": "@jupyter-widgets/controls",
      "_model_module_version": "1.5.0",
      "_model_name": "HTMLModel",
      "_view_count": null,
      "_view_module": "@jupyter-widgets/controls",
      "_view_module_version": "1.5.0",
      "_view_name": "HTMLView",
      "description": "",
      "description_tooltip": null,
      "layout": "IPY_MODEL_260a5de8a5f5465aa9b1762ce71e093a",
      "placeholder": "​",
      "style": "IPY_MODEL_ce4a7d71d2064a669a2a69a3dcb49681",
      "value": " 22304/22304 [00:20&lt;00:00, 1082.57it/s]"
     }
    },
    "bcc8fdfc221d4aa2a73b0b703e875025": {
     "model_module": "@jupyter-widgets/controls",
     "model_name": "IntProgressModel",
     "state": {
      "_dom_classes": [],
      "_model_module": "@jupyter-widgets/controls",
      "_model_module_version": "1.5.0",
      "_model_name": "IntProgressModel",
      "_view_count": null,
      "_view_module": "@jupyter-widgets/controls",
      "_view_module_version": "1.5.0",
      "_view_name": "ProgressView",
      "bar_style": "success",
      "description": "100%",
      "description_tooltip": null,
      "layout": "IPY_MODEL_c4128deaedc046d7a4a22250e01105f1",
      "max": 3117,
      "min": 0,
      "orientation": "horizontal",
      "style": "IPY_MODEL_019424ccbc38451aa84690a4c1d3ead3",
      "value": 3117
     }
    },
    "c4128deaedc046d7a4a22250e01105f1": {
     "model_module": "@jupyter-widgets/base",
     "model_name": "LayoutModel",
     "state": {
      "_model_module": "@jupyter-widgets/base",
      "_model_module_version": "1.2.0",
      "_model_name": "LayoutModel",
      "_view_count": null,
      "_view_module": "@jupyter-widgets/base",
      "_view_module_version": "1.2.0",
      "_view_name": "LayoutView",
      "align_content": null,
      "align_items": null,
      "align_self": null,
      "border": null,
      "bottom": null,
      "display": null,
      "flex": null,
      "flex_flow": null,
      "grid_area": null,
      "grid_auto_columns": null,
      "grid_auto_flow": null,
      "grid_auto_rows": null,
      "grid_column": null,
      "grid_gap": null,
      "grid_row": null,
      "grid_template_areas": null,
      "grid_template_columns": null,
      "grid_template_rows": null,
      "height": null,
      "justify_content": null,
      "justify_items": null,
      "left": null,
      "margin": null,
      "max_height": null,
      "max_width": null,
      "min_height": null,
      "min_width": null,
      "object_fit": null,
      "object_position": null,
      "order": null,
      "overflow": null,
      "overflow_x": null,
      "overflow_y": null,
      "padding": null,
      "right": null,
      "top": null,
      "visibility": null,
      "width": null
     }
    },
    "c6b8028637354de5983285bbbd6cb167": {
     "model_module": "@jupyter-widgets/base",
     "model_name": "LayoutModel",
     "state": {
      "_model_module": "@jupyter-widgets/base",
      "_model_module_version": "1.2.0",
      "_model_name": "LayoutModel",
      "_view_count": null,
      "_view_module": "@jupyter-widgets/base",
      "_view_module_version": "1.2.0",
      "_view_name": "LayoutView",
      "align_content": null,
      "align_items": null,
      "align_self": null,
      "border": null,
      "bottom": null,
      "display": null,
      "flex": null,
      "flex_flow": null,
      "grid_area": null,
      "grid_auto_columns": null,
      "grid_auto_flow": null,
      "grid_auto_rows": null,
      "grid_column": null,
      "grid_gap": null,
      "grid_row": null,
      "grid_template_areas": null,
      "grid_template_columns": null,
      "grid_template_rows": null,
      "height": null,
      "justify_content": null,
      "justify_items": null,
      "left": null,
      "margin": null,
      "max_height": null,
      "max_width": null,
      "min_height": null,
      "min_width": null,
      "object_fit": null,
      "object_position": null,
      "order": null,
      "overflow": null,
      "overflow_x": null,
      "overflow_y": null,
      "padding": null,
      "right": null,
      "top": null,
      "visibility": null,
      "width": null
     }
    },
    "cae4dc700e6d4b03b3ff021e3503750b": {
     "model_module": "@jupyter-widgets/base",
     "model_name": "LayoutModel",
     "state": {
      "_model_module": "@jupyter-widgets/base",
      "_model_module_version": "1.2.0",
      "_model_name": "LayoutModel",
      "_view_count": null,
      "_view_module": "@jupyter-widgets/base",
      "_view_module_version": "1.2.0",
      "_view_name": "LayoutView",
      "align_content": null,
      "align_items": null,
      "align_self": null,
      "border": null,
      "bottom": null,
      "display": null,
      "flex": null,
      "flex_flow": null,
      "grid_area": null,
      "grid_auto_columns": null,
      "grid_auto_flow": null,
      "grid_auto_rows": null,
      "grid_column": null,
      "grid_gap": null,
      "grid_row": null,
      "grid_template_areas": null,
      "grid_template_columns": null,
      "grid_template_rows": null,
      "height": null,
      "justify_content": null,
      "justify_items": null,
      "left": null,
      "margin": null,
      "max_height": null,
      "max_width": null,
      "min_height": null,
      "min_width": null,
      "object_fit": null,
      "object_position": null,
      "order": null,
      "overflow": null,
      "overflow_x": null,
      "overflow_y": null,
      "padding": null,
      "right": null,
      "top": null,
      "visibility": null,
      "width": null
     }
    },
    "cc618bc4913f4405bd382cb3a4a5b5c7": {
     "model_module": "@jupyter-widgets/controls",
     "model_name": "HTMLModel",
     "state": {
      "_dom_classes": [],
      "_model_module": "@jupyter-widgets/controls",
      "_model_module_version": "1.5.0",
      "_model_name": "HTMLModel",
      "_view_count": null,
      "_view_module": "@jupyter-widgets/controls",
      "_view_module_version": "1.5.0",
      "_view_name": "HTMLView",
      "description": "",
      "description_tooltip": null,
      "layout": "IPY_MODEL_38868da937fe47aaa0d42e27aed9044d",
      "placeholder": "​",
      "style": "IPY_MODEL_7921149624164934888a3ca1c45895da",
      "value": " 2479/2479 [00:02&lt;00:00, 1066.91it/s]"
     }
    },
    "ce4a7d71d2064a669a2a69a3dcb49681": {
     "model_module": "@jupyter-widgets/controls",
     "model_name": "DescriptionStyleModel",
     "state": {
      "_model_module": "@jupyter-widgets/controls",
      "_model_module_version": "1.5.0",
      "_model_name": "DescriptionStyleModel",
      "_view_count": null,
      "_view_module": "@jupyter-widgets/base",
      "_view_module_version": "1.2.0",
      "_view_name": "StyleView",
      "description_width": ""
     }
    },
    "d0341275b6d149dd8925b19f2dda56f0": {
     "model_module": "@jupyter-widgets/controls",
     "model_name": "ProgressStyleModel",
     "state": {
      "_model_module": "@jupyter-widgets/controls",
      "_model_module_version": "1.5.0",
      "_model_name": "ProgressStyleModel",
      "_view_count": null,
      "_view_module": "@jupyter-widgets/base",
      "_view_module_version": "1.2.0",
      "_view_name": "StyleView",
      "bar_color": null,
      "description_width": "initial"
     }
    },
    "d125004c822d4cd69786788e724f7ed4": {
     "model_module": "@jupyter-widgets/controls",
     "model_name": "HBoxModel",
     "state": {
      "_dom_classes": [],
      "_model_module": "@jupyter-widgets/controls",
      "_model_module_version": "1.5.0",
      "_model_name": "HBoxModel",
      "_view_count": null,
      "_view_module": "@jupyter-widgets/controls",
      "_view_module_version": "1.5.0",
      "_view_name": "HBoxView",
      "box_style": "",
      "children": [
       "IPY_MODEL_bcc8fdfc221d4aa2a73b0b703e875025",
       "IPY_MODEL_65963699d0fa4ae9b9d2ebfd754e0541"
      ],
      "layout": "IPY_MODEL_0da4a63253f04d9b9f5b67aecb60835c"
     }
    },
    "d23413ca9636479281fedca4712200a2": {
     "model_module": "@jupyter-widgets/base",
     "model_name": "LayoutModel",
     "state": {
      "_model_module": "@jupyter-widgets/base",
      "_model_module_version": "1.2.0",
      "_model_name": "LayoutModel",
      "_view_count": null,
      "_view_module": "@jupyter-widgets/base",
      "_view_module_version": "1.2.0",
      "_view_name": "LayoutView",
      "align_content": null,
      "align_items": null,
      "align_self": null,
      "border": null,
      "bottom": null,
      "display": null,
      "flex": null,
      "flex_flow": null,
      "grid_area": null,
      "grid_auto_columns": null,
      "grid_auto_flow": null,
      "grid_auto_rows": null,
      "grid_column": null,
      "grid_gap": null,
      "grid_row": null,
      "grid_template_areas": null,
      "grid_template_columns": null,
      "grid_template_rows": null,
      "height": null,
      "justify_content": null,
      "justify_items": null,
      "left": null,
      "margin": null,
      "max_height": null,
      "max_width": null,
      "min_height": null,
      "min_width": null,
      "object_fit": null,
      "object_position": null,
      "order": null,
      "overflow": null,
      "overflow_x": null,
      "overflow_y": null,
      "padding": null,
      "right": null,
      "top": null,
      "visibility": null,
      "width": null
     }
    },
    "d2533a01921c40b59b9200660f4570e7": {
     "model_module": "@jupyter-widgets/base",
     "model_name": "LayoutModel",
     "state": {
      "_model_module": "@jupyter-widgets/base",
      "_model_module_version": "1.2.0",
      "_model_name": "LayoutModel",
      "_view_count": null,
      "_view_module": "@jupyter-widgets/base",
      "_view_module_version": "1.2.0",
      "_view_name": "LayoutView",
      "align_content": null,
      "align_items": null,
      "align_self": null,
      "border": null,
      "bottom": null,
      "display": null,
      "flex": null,
      "flex_flow": null,
      "grid_area": null,
      "grid_auto_columns": null,
      "grid_auto_flow": null,
      "grid_auto_rows": null,
      "grid_column": null,
      "grid_gap": null,
      "grid_row": null,
      "grid_template_areas": null,
      "grid_template_columns": null,
      "grid_template_rows": null,
      "height": null,
      "justify_content": null,
      "justify_items": null,
      "left": null,
      "margin": null,
      "max_height": null,
      "max_width": null,
      "min_height": null,
      "min_width": null,
      "object_fit": null,
      "object_position": null,
      "order": null,
      "overflow": null,
      "overflow_x": null,
      "overflow_y": null,
      "padding": null,
      "right": null,
      "top": null,
      "visibility": null,
      "width": null
     }
    },
    "d3766666b0d343819d24e2c9647b71b9": {
     "model_module": "@jupyter-widgets/controls",
     "model_name": "IntProgressModel",
     "state": {
      "_dom_classes": [],
      "_model_module": "@jupyter-widgets/controls",
      "_model_module_version": "1.5.0",
      "_model_name": "IntProgressModel",
      "_view_count": null,
      "_view_module": "@jupyter-widgets/controls",
      "_view_module_version": "1.5.0",
      "_view_name": "ProgressView",
      "bar_style": "success",
      "description": "100%",
      "description_tooltip": null,
      "layout": "IPY_MODEL_3ff7c1a38c2b406799e9457dcc3c9095",
      "max": 3116,
      "min": 0,
      "orientation": "horizontal",
      "style": "IPY_MODEL_e73cc7a3c656439faa0258a28283c956",
      "value": 3116
     }
    },
    "d3d0922d956e471b8e4886a9230e08f9": {
     "model_module": "@jupyter-widgets/controls",
     "model_name": "HTMLModel",
     "state": {
      "_dom_classes": [],
      "_model_module": "@jupyter-widgets/controls",
      "_model_module_version": "1.5.0",
      "_model_name": "HTMLModel",
      "_view_count": null,
      "_view_module": "@jupyter-widgets/controls",
      "_view_module_version": "1.5.0",
      "_view_name": "HTMLView",
      "description": "",
      "description_tooltip": null,
      "layout": "IPY_MODEL_83fafc2b903c46cab48db2de1f1d8d4f",
      "placeholder": "​",
      "style": "IPY_MODEL_8e33b0ef252247cf87aac6e382d6543d",
      "value": " 2479/2479 [00:02&lt;00:00, 1106.00it/s]"
     }
    },
    "d4cb4b3fd8c64677b3aa00a69b6e7ad1": {
     "model_module": "@jupyter-widgets/controls",
     "model_name": "DescriptionStyleModel",
     "state": {
      "_model_module": "@jupyter-widgets/controls",
      "_model_module_version": "1.5.0",
      "_model_name": "DescriptionStyleModel",
      "_view_count": null,
      "_view_module": "@jupyter-widgets/base",
      "_view_module_version": "1.2.0",
      "_view_name": "StyleView",
      "description_width": ""
     }
    },
    "e2d17a4a74444aa3a1decc5ef03b8b6c": {
     "model_module": "@jupyter-widgets/controls",
     "model_name": "ProgressStyleModel",
     "state": {
      "_model_module": "@jupyter-widgets/controls",
      "_model_module_version": "1.5.0",
      "_model_name": "ProgressStyleModel",
      "_view_count": null,
      "_view_module": "@jupyter-widgets/base",
      "_view_module_version": "1.2.0",
      "_view_name": "StyleView",
      "bar_color": null,
      "description_width": "initial"
     }
    },
    "e3a1acfdf2ee4f3480a9b1156275cb64": {
     "model_module": "@jupyter-widgets/base",
     "model_name": "LayoutModel",
     "state": {
      "_model_module": "@jupyter-widgets/base",
      "_model_module_version": "1.2.0",
      "_model_name": "LayoutModel",
      "_view_count": null,
      "_view_module": "@jupyter-widgets/base",
      "_view_module_version": "1.2.0",
      "_view_name": "LayoutView",
      "align_content": null,
      "align_items": null,
      "align_self": null,
      "border": null,
      "bottom": null,
      "display": null,
      "flex": null,
      "flex_flow": null,
      "grid_area": null,
      "grid_auto_columns": null,
      "grid_auto_flow": null,
      "grid_auto_rows": null,
      "grid_column": null,
      "grid_gap": null,
      "grid_row": null,
      "grid_template_areas": null,
      "grid_template_columns": null,
      "grid_template_rows": null,
      "height": null,
      "justify_content": null,
      "justify_items": null,
      "left": null,
      "margin": null,
      "max_height": null,
      "max_width": null,
      "min_height": null,
      "min_width": null,
      "object_fit": null,
      "object_position": null,
      "order": null,
      "overflow": null,
      "overflow_x": null,
      "overflow_y": null,
      "padding": null,
      "right": null,
      "top": null,
      "visibility": null,
      "width": null
     }
    },
    "e73cc7a3c656439faa0258a28283c956": {
     "model_module": "@jupyter-widgets/controls",
     "model_name": "ProgressStyleModel",
     "state": {
      "_model_module": "@jupyter-widgets/controls",
      "_model_module_version": "1.5.0",
      "_model_name": "ProgressStyleModel",
      "_view_count": null,
      "_view_module": "@jupyter-widgets/base",
      "_view_module_version": "1.2.0",
      "_view_name": "StyleView",
      "bar_color": null,
      "description_width": "initial"
     }
    },
    "f4cba0ecd93344d19c617ab6d922ccc4": {
     "model_module": "@jupyter-widgets/controls",
     "model_name": "IntProgressModel",
     "state": {
      "_dom_classes": [],
      "_model_module": "@jupyter-widgets/controls",
      "_model_module_version": "1.5.0",
      "_model_name": "IntProgressModel",
      "_view_count": null,
      "_view_module": "@jupyter-widgets/controls",
      "_view_module_version": "1.5.0",
      "_view_name": "ProgressView",
      "bar_style": "success",
      "description": "100%",
      "description_tooltip": null,
      "layout": "IPY_MODEL_a393d8c91d084b079a17b065141bbdb1",
      "max": 22304,
      "min": 0,
      "orientation": "horizontal",
      "style": "IPY_MODEL_1cc151d5ceeb4cc6b5c1ae27ca471bc0",
      "value": 22304
     }
    },
    "f94d9dbf0b444adcb05f9a5e2555c639": {
     "model_module": "@jupyter-widgets/base",
     "model_name": "LayoutModel",
     "state": {
      "_model_module": "@jupyter-widgets/base",
      "_model_module_version": "1.2.0",
      "_model_name": "LayoutModel",
      "_view_count": null,
      "_view_module": "@jupyter-widgets/base",
      "_view_module_version": "1.2.0",
      "_view_name": "LayoutView",
      "align_content": null,
      "align_items": null,
      "align_self": null,
      "border": null,
      "bottom": null,
      "display": null,
      "flex": null,
      "flex_flow": null,
      "grid_area": null,
      "grid_auto_columns": null,
      "grid_auto_flow": null,
      "grid_auto_rows": null,
      "grid_column": null,
      "grid_gap": null,
      "grid_row": null,
      "grid_template_areas": null,
      "grid_template_columns": null,
      "grid_template_rows": null,
      "height": null,
      "justify_content": null,
      "justify_items": null,
      "left": null,
      "margin": null,
      "max_height": null,
      "max_width": null,
      "min_height": null,
      "min_width": null,
      "object_fit": null,
      "object_position": null,
      "order": null,
      "overflow": null,
      "overflow_x": null,
      "overflow_y": null,
      "padding": null,
      "right": null,
      "top": null,
      "visibility": null,
      "width": null
     }
    },
    "fd0668ae53794cefb8eb5532cd581afc": {
     "model_module": "@jupyter-widgets/controls",
     "model_name": "IntProgressModel",
     "state": {
      "_dom_classes": [],
      "_model_module": "@jupyter-widgets/controls",
      "_model_module_version": "1.5.0",
      "_model_name": "IntProgressModel",
      "_view_count": null,
      "_view_module": "@jupyter-widgets/controls",
      "_view_module_version": "1.5.0",
      "_view_name": "ProgressView",
      "bar_style": "success",
      "description": "100%",
      "description_tooltip": null,
      "layout": "IPY_MODEL_2e1cb275c1504c5ca50fbfd7298e3bcc",
      "max": 2479,
      "min": 0,
      "orientation": "horizontal",
      "style": "IPY_MODEL_01f549e430344d6981128dff616cf0c2",
      "value": 2479
     }
    },
    "fd6decd7038a45c5bc239e41447bb86d": {
     "model_module": "@jupyter-widgets/controls",
     "model_name": "DescriptionStyleModel",
     "state": {
      "_model_module": "@jupyter-widgets/controls",
      "_model_module_version": "1.5.0",
      "_model_name": "DescriptionStyleModel",
      "_view_count": null,
      "_view_module": "@jupyter-widgets/base",
      "_view_module_version": "1.2.0",
      "_view_name": "StyleView",
      "description_width": ""
     }
    }
   }
  }
 },
 "nbformat": 4,
 "nbformat_minor": 1
}
